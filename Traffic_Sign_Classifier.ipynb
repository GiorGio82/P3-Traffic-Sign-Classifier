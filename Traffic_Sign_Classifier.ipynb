{
 "cells": [
  {
   "cell_type": "markdown",
   "metadata": {},
   "source": [
    "# Project: Build a Traffic Sign Recognition Classifier\n",
    "\n",
    "this notebook is structured in 4 parts\n",
    "\n",
    "1. [Load data, data exploration and visualization](#part1)\n",
    "2. Deeplearning model design, training preprocessing, balancing, augmentations and model training\n",
    "3. Performance evaluation and predictions\n",
    "4. (Optional) visualization of the network state"
   ]
  },
  {
   "cell_type": "markdown",
   "metadata": {},
   "source": [
    "---\n",
    "\n",
    "\n",
    "## <a name=\"part1\"></a> Part1: load data, preprocessing, balancing and augmentations"
   ]
  },
  {
   "cell_type": "code",
   "execution_count": 7,
   "metadata": {},
   "outputs": [
    {
     "name": "stdout",
     "output_type": "stream",
     "text": [
      "cv version (tested on 4.5.1) is 4.5.1\n",
      "tf version (tested on 2.4.1) is 2.4.1\n"
     ]
    }
   ],
   "source": [
    "import numpy as np\n",
    "import matplotlib.pyplot as plt\n",
    "import datetime\n",
    "import pickle\n",
    "import pandas as pd\n",
    "from pandas.io.parsers import read_csv\n",
    "import random\n",
    "import imgaug.augmenters as iaa\n",
    "import imgaug as ia\n",
    "import cv2 as cv\n",
    "print(\"cv version (tested on 4.5.1) is {}\".format(cv.__version__))\n",
    "import tensorflow as tf\n",
    "print(\"tf version (tested on 2.4.1) is {}\".format(tf.__version__))\n"
   ]
  },
  {
   "cell_type": "markdown",
   "metadata": {},
   "source": [
    "---\n",
    "\n",
    "### Load the dataset & check its integrity"
   ]
  },
  {
   "cell_type": "code",
   "execution_count": 8,
   "metadata": {},
   "outputs": [],
   "source": [
    "training_file = '../traffic-signs-data/train.p'\n",
    "validation_file= '../traffic-signs-data/valid.p'\n",
    "testing_file = '../traffic-signs-data/test.p'\n",
    "\n",
    "with open(training_file, mode='rb') as f:\n",
    "    train = pickle.load(f)\n",
    "with open(validation_file, mode='rb') as f:\n",
    "    valid = pickle.load(f)\n",
    "with open(testing_file, mode='rb') as f:\n",
    "    test = pickle.load(f)\n",
    "    Dataset\n",
    "X_train, y_train = train['features'], train['labels']\n",
    "X_valid, y_valid = valid['features'], valid['labels']\n",
    "X_test, y_test = test['features'], test['labels']\n",
    "\n",
    "assert(len(X_train) == len(y_train))\n",
    "assert(len(X_valid) == len(y_valid))\n",
    "assert(len(X_test) == len(y_test))"
   ]
  },
  {
   "cell_type": "markdown",
   "metadata": {},
   "source": [
    "---\n",
    "\n",
    "### Dataset Summary & Exploration\n",
    "\n",
    "The pickled data is a dictionary with 4 key/value pairs:\n",
    "\n",
    "- `'features'` is a 4D array containing raw pixel data of the traffic sign images, (num examples, width, height, channels).\n",
    "- `'labels'` is a 1D array containing the label/class id of the traffic sign. The file `signnames.csv` contains id -> name mappings for each id.\n",
    "- `'sizes'` is a list containing tuples, (width, height) representing the original width and height the image.\n",
    "- `'coords'` is a list containing tuples, (x1, y1, x2, y2) representing coordinates of a bounding box around the sign in the image. **THESE COORDINATES ASSUME THE ORIGINAL IMAGE. THE PICKLED DATA CONTAINS RESIZED VERSIONS (32 by 32) OF THESE IMAGES**\n",
    "\n",
    "Complete the basic data summary below. Use python, numpy and/or pandas methods to calculate the data summary rather than hard coding the results. For example, the [pandas shape method](http://pandas.pydata.org/pandas-docs/stable/generated/pandas.DataFrame.shape.html) might be useful for calculating some of the summary results. "
   ]
  },
  {
   "cell_type": "markdown",
   "metadata": {},
   "source": [
    "### Provide a Basic Summary of the Data Set Using Python, Numpy and/or Pandas"
   ]
  },
  {
   "cell_type": "code",
   "execution_count": null,
   "metadata": {},
   "outputs": [],
   "source": []
  },
  {
   "cell_type": "code",
   "execution_count": 5,
   "metadata": {},
   "outputs": [
    {
     "name": "stdout",
     "output_type": "stream",
     "text": [
      "Number of training examples = 34799\n",
      "Number of validation examples = 4410\n",
      "Number of testing examples = 12630\n",
      "Image data shape = (32, 32, 3)\n",
      "Number of classes = 43\n"
     ]
    }
   ],
   "source": [
    "\n",
    "# Number of training examples\n",
    "n_train = len(X_train)\n",
    "\n",
    "# Number of validation examples\n",
    "n_validation = len(X_valid)\n",
    "\n",
    "# Number of testing examples.\n",
    "n_test = len(X_test)\n",
    "\n",
    "# Shape of a traffic sign image\n",
    "index = random.randint(0, len(X_train))\n",
    "image = X_train[index]\n",
    "image_shape = image.shape\n",
    "\n",
    "# How many unique classes/labels there are in the dataset.\n",
    "sign_classes, class_indices, class_counts = np.unique(y_train, return_index = True, return_counts = True)\n",
    "n_classes = len(class_counts)\n",
    "print(\"Number of training examples =\", n_train)\n",
    "print(\"Number of validation examples =\", n_validation)\n",
    "print(\"Number of testing examples =\", n_test)\n",
    "print(\"Image data shape =\", image_shape)\n",
    "print(\"Number of classes =\", n_classes)"
   ]
  },
  {
   "cell_type": "markdown",
   "metadata": {},
   "source": [
    "### Include an exploratory visualization of the dataset"
   ]
  },
  {
   "cell_type": "markdown",
   "metadata": {},
   "source": [
    "Visualize the German Traffic Signs Dataset using the pickled file(s). This is open ended, suggestions include: plotting traffic sign images, plotting the count of each sign, etc. \n",
    "\n",
    "The [Matplotlib](http://matplotlib.org/) [examples](http://matplotlib.org/examples/index.html) and [gallery](http://matplotlib.org/gallery.html) pages are a great resource for doing visualizations in Python.\n",
    "\n",
    "**NOTE:** It's recommended you start with something simple first. If you wish to do more, come back to it after you've completed the rest of the sections. It can be interesting to look at the distribution of classes in the training, validation and test set. Is the distribution the same? Are there more examples of some classes than others?"
   ]
  },
  {
   "cell_type": "code",
   "execution_count": 6,
   "metadata": {},
   "outputs": [],
   "source": [
    "#stats = df.hist(bins=len(df.sign.unique()))\n",
    "#item_counts = df[\"sign\"].value_counts().sort_index()\n",
    "#print(item_counts)\n"
   ]
  },
  {
   "cell_type": "markdown",
   "metadata": {},
   "source": [
    "# Signs simple visualization"
   ]
  },
  {
   "cell_type": "code",
   "execution_count": 7,
   "metadata": {},
   "outputs": [],
   "source": [
    "\n",
    "# Visualizations will be shown in the notebook.\n",
    "%matplotlib inline\n",
    "#plot an example of each sign\n",
    "sign_names = pd.read_csv('signnames.csv')\n",
    "def plot_sample_of_each():\n",
    "    random_unique_sign_img = []\n",
    "    sign_name_title = []\n",
    "    df = pd.DataFrame({'sign':list(y_train)})\n",
    "    classes = list(df.sign.unique())\n",
    "    for sign in classes:\n",
    "        \n",
    "        unique_sign = df[df['sign']==sign].sample(n=1)\n",
    "        random_unique_sign_img.append(X_train[unique_sign.index[0]])\n",
    "        title = sign_names[sign_names['ClassId']==sign]['SignName'].values[0]\n",
    "        if len(title.split())<5:\n",
    "            sign_name_title.append(title)\n",
    "        else:\n",
    "            two_l = title.split()[0:4]\n",
    "            two_l.extend('\\n')\n",
    "            two_l.extend(title.split()[4:])\n",
    "            sign_name_title.append(' '.join(two_l))\n",
    "\n",
    "    \n",
    "    #f, ((ax1, ax2), (ax3,ax4),(ax5,ax6)) = plt.subplots(3,2, figsize=(24, 9))\n",
    "    f, (axes) = plt.subplots(8,6, figsize=(32, 32))\n",
    "    #print(axes)\n",
    " \n",
    "    f.tight_layout()\n",
    "    for i in range(8):\n",
    "        for j in range(6):\n",
    "            if(len(random_unique_sign_img)>0):\n",
    "                axes[i][j].imshow(random_unique_sign_img.pop(0))\n",
    "                axes[i][j].set_title(sign_name_title.pop(0),fontsize=20)\n",
    "    plt.subplots_adjust(left=0., right=1, top=0.9, bottom=0.05,hspace = 0.4,wspace = 0.1)\n",
    "\n",
    "    \n",
    "    \n",
    "    \n",
    "#plot_sample_of_each()\n"
   ]
  },
  {
   "cell_type": "markdown",
   "metadata": {},
   "source": [
    "# Signs detailed visualization"
   ]
  },
  {
   "cell_type": "code",
   "execution_count": null,
   "metadata": {},
   "outputs": [],
   "source": []
  },
  {
   "cell_type": "code",
   "execution_count": 8,
   "metadata": {
    "scrolled": true
   },
   "outputs": [],
   "source": [
    "# source: https://github.com/navoshta/traffic-signs/blob/master/Traffic_Signs_Recognition.ipynb\n",
    "\n",
    "\n",
    "signnames = read_csv(\"signnames.csv\").values[:, 1]\n",
    "col_width = max(len(name) for name in signnames)\n",
    "\n",
    "def plot_class_hist(class_counts,labels):\n",
    "    plt.bar( np.arange( 43 ), class_counts, align='center' )\n",
    "    plt.xlabel('Class')\n",
    "    #plt.xticks(x, labels, rotation='vertical')\n",
    "    plt.ylabel('Number of training examples')\n",
    "    plt.xlim([-1, 43])\n",
    "    plt.show()\n",
    "\n",
    "def plot_samples_from_all_classes(images,labels,n_samples=10,color='rgb'):\n",
    "    sign_classes, class_indices, class_counts = np.unique(labels, return_index = True, return_counts = True)\n",
    "    df = pd.DataFrame({'sign':list(labels)})\n",
    "    for c, c_index, c_count in zip(sign_classes, class_indices, class_counts):\n",
    "        print(\"Class %i: %-*s  %s samples\" % (c, col_width, signnames[c], str(c_count)))\n",
    "        fig = plt.figure(figsize = (6, 1))\n",
    "        fig.subplots_adjust(left = 0, right = 1, bottom = 0, top = 1, hspace = 0.05, wspace = 0.05)        \n",
    "        random_indices = df[df['sign']==c].sample(n=n_samples)\n",
    "        random_indices = random_indices.index[:]\n",
    "        for i in range(n_samples):\n",
    "            axis = fig.add_subplot(1, n_samples, i + 1, xticks=[], yticks=[])\n",
    "            if color == 'gray':\n",
    "                axis.imshow(images[random_indices[i]],cmap='gray')\n",
    "            else:\n",
    "                axis.imshow(images[random_indices[i]])\n",
    "        plt.show()\n",
    "        print(\"indices: {}\".format(random_indices))\n",
    "        print(\"--------------------------------------------------------------------------------------\\n\")\n",
    "\n",
    "    plot_class_hist(class_counts,signnames)\n",
    "\n",
    "\n",
    "#plot_samples_from_all_classes(X_train,y_train)\n"
   ]
  },
  {
   "cell_type": "markdown",
   "metadata": {},
   "source": [
    "# Plot one image"
   ]
  },
  {
   "cell_type": "code",
   "execution_count": 9,
   "metadata": {},
   "outputs": [
    {
     "name": "stdout",
     "output_type": "stream",
     "text": [
      "End of no passing\n"
     ]
    },
    {
     "data": {
      "image/png": "[encoded data removed]",
      "text/plain": [
       "<Figure size 72x72 with 1 Axes>"
      ]
     },
     "metadata": {
      "needs_background": "light"
     },
     "output_type": "display_data"
    }
   ],
   "source": [
    "### Data exploration visualization code goes here.\n",
    "### Feel free to use as many code cells as needed.\n",
    "\n",
    "\n",
    "index = 3 #random.randint(0, len(X_test))\n",
    "image = X_train[index]\n",
    "\n",
    "plt.figure(figsize=(1,1))\n",
    "plt.imshow(image)\n",
    "print(signnames[y_train[index]])"
   ]
  },
  {
   "cell_type": "markdown",
   "metadata": {},
   "source": [
    "----\n",
    "\n",
    "## Step 2: Design and Test a Model Architecture\n",
    "\n",
    "Design and implement a deep learning model that learns to recognize traffic signs. Train and test your model on the [German Traffic Sign Dataset](http://benchmark.ini.rub.de/?section=gtsrb&subsection=dataset).\n",
    "\n",
    "The LeNet-5 implementation shown in the [classroom](https://classroom.udacity.com/nanodegrees/nd013/parts/fbf77062-5703-404e-b60c-95b78b2f3f9e/modules/6df7ae49-c61c-4bb2-a23e-6527e69209ec/lessons/601ae704-1035-4287-8b11-e2c2716217ad/concepts/d4aca031-508f-4e0b-b493-e7b706120f81) at the end of the CNN lesson is a solid starting point. You'll have to change the number of classes and possibly the preprocessing, but aside from that it's plug and play! \n",
    "\n",
    "With the LeNet-5 solution from the lecture, you should expect a validation set accuracy of about 0.89. To meet specifications, the validation set accuracy will need to be at least 0.93. It is possible to get an even higher accuracy, but 0.93 is the minimum for a successful project submission. \n",
    "\n",
    "There are various aspects to consider when thinking about this problem:\n",
    "\n",
    "- Neural network architecture (is the network over or underfitting?)\n",
    "- Play around preprocessing techniques (normalization, rgb to grayscale, etc)\n",
    "- Number of examples per label (some have more than others).\n",
    "- Generate fake data.\n",
    "\n",
    "Here is an example of a [published baseline model on this problem](http://yann.lecun.com/exdb/publis/pdf/sermanet-ijcnn-11.pdf). It's not required to be familiar with the approach used in the paper but, it's good practice to try to read papers like these."
   ]
  },
  {
   "cell_type": "markdown",
   "metadata": {},
   "source": [
    "### Pre-process the Data Set (normalization, grayscale, etc.)"
   ]
  },
  {
   "cell_type": "markdown",
   "metadata": {},
   "source": [
    "Minimally, the image data should be normalized so that the data has mean zero and equal variance. For image data, `(pixel - 128)/ 128` is a quick way to approximately normalize the data and can be used in this project. \n",
    "\n",
    "Other pre-processing steps are optional. You can try different techniques to see if it improves performance. \n",
    "\n",
    "Use the code cell (or multiple code cells, if necessary) to implement the first step of your project."
   ]
  },
  {
   "cell_type": "code",
   "execution_count": 10,
   "metadata": {},
   "outputs": [],
   "source": [
    "### Preprocess the data here. It is required to normalize the data. Other preprocessing steps could include \n",
    "### converting to grayscale, etc.\n",
    "### Feel free to use as many code cells as needed.\n"
   ]
  },
  {
   "cell_type": "markdown",
   "metadata": {},
   "source": [
    "# Helper function: Hist Equalization "
   ]
  },
  {
   "cell_type": "code",
   "execution_count": 11,
   "metadata": {
    "scrolled": false
   },
   "outputs": [],
   "source": [
    "def hist_equaliz(img):\n",
    "    aug = iaa.AllChannelsHistogramEqualization()\n",
    "    return aug(image=img)\n"
   ]
  },
  {
   "cell_type": "markdown",
   "metadata": {},
   "source": [
    "# Example of Hist Equalization usage"
   ]
  },
  {
   "cell_type": "code",
   "execution_count": 12,
   "metadata": {},
   "outputs": [
    {
     "name": "stdout",
     "output_type": "stream",
     "text": [
      "(32, 32, 3) (32, 32, 3)\n",
      "Roundabout mandatory\n"
     ]
    },
    {
     "data": {
      "text/plain": [
       "<Figure size 72x72 with 0 Axes>"
      ]
     },
     "metadata": {},
     "output_type": "display_data"
    },
    {
     "data": {
      "image/png": "[encoded data removed]",
      "text/plain": [
       "<Figure size 432x288 with 2 Axes>"
      ]
     },
     "metadata": {
      "needs_background": "light"
     },
     "output_type": "display_data"
    }
   ],
   "source": [
    "index = 4443 #random.randint(0, len(X_test))\n",
    "image = X_train[index]\n",
    "equalized = hist_equaliz(image)\n",
    "print(image.shape, equalized.shape)\n",
    "\n",
    "plt.figure(figsize=(1,1))\n",
    "print(signnames[y_train[index]])\n",
    "f,(ax1,ax2) = plt.subplots(1,2,)\n",
    "f.tight_layout()\n",
    "\n",
    "ax1.imshow(image)\n",
    "ax2.imshow(equalized) \n",
    " \n",
    "plt.show()"
   ]
  },
  {
   "cell_type": "markdown",
   "metadata": {},
   "source": [
    "# CLAHE"
   ]
  },
  {
   "cell_type": "code",
   "execution_count": 13,
   "metadata": {},
   "outputs": [
    {
     "name": "stdout",
     "output_type": "stream",
     "text": [
      "4.5.1\n"
     ]
    }
   ],
   "source": [
    "\n",
    "\n",
    "def applyCLAHE(img ):\n",
    "    clahe = cv.createCLAHE()\n",
    "    return clahe.apply(img)\n",
    "\n",
    "\n",
    "\n"
   ]
  },
  {
   "cell_type": "code",
   "execution_count": 20,
   "metadata": {},
   "outputs": [
    {
     "data": {
      "text/plain": [
       "<matplotlib.image.AxesImage at 0x7fb73eb70610>"
      ]
     },
     "execution_count": 20,
     "metadata": {},
     "output_type": "execute_result"
    },
    {
     "data": {
      "image/png": "[encoded data removed]",
      "text/plain": [
       "<Figure size 432x288 with 2 Axes>"
      ]
     },
     "metadata": {
      "needs_background": "light"
     },
     "output_type": "display_data"
    }
   ],
   "source": [
    "img = X_train[4443]\n",
    "grayimg = cv.cvtColor(img, cv.COLOR_BGR2GRAY)\n",
    "#equ = cv.equalizeHist(grayimg)\n",
    "#res = np.hstack((img,equ)) #stacking images side-by-side\n",
    "#plt.imshow(res,cmap='gray')\n",
    "\n",
    "\n",
    "f, (ax1,ax2) = plt.subplots(1,2)\n",
    "    #print(axes)\n",
    " \n",
    "f.tight_layout()\n",
    "ax1.imshow(img,cmap='gray')\n",
    "ax2.imshow(applyCLAHE(grayimg),cmap='gray')\n"
   ]
  },
  {
   "cell_type": "markdown",
   "metadata": {},
   "source": [
    "# Apply Gray and CLAHE"
   ]
  },
  {
   "cell_type": "code",
   "execution_count": null,
   "metadata": {},
   "outputs": [],
   "source": [
    "\n",
    "#for i in range(len(X_train)):\n",
    "#    X_train[i] = np.expand_dims(applyGrayAndCLAHE(X_train[i]), axis=2)\n",
    "\n",
    "\n",
    "#for i in range(len(X_valid)):\n",
    "#    X_valid[i] = np.expand_dims(applyGrayAndCLAHE(X_valid[i]), axis=2)\n",
    "\n",
    "#for i in range(len(X_test)):\n",
    "#    X_test[i] = np.expand_dims(applyGrayAndCLAHE(X_test[i]), axis=2)\n",
    "\n",
    "#plot_samples_from_all_classes(X_train,y_train)\n",
    "#plot_samples_from_all_classes(X_valid,y_valid)\n",
    "#plot_samples_from_all_classes(X_test,y_test)"
   ]
  },
  {
   "cell_type": "markdown",
   "metadata": {},
   "source": [
    "# Apply equalization and gray filters"
   ]
  },
  {
   "cell_type": "code",
   "execution_count": 22,
   "metadata": {},
   "outputs": [],
   "source": [
    "def applyEqualizationAndGray(images,type=1):\n",
    "    \n",
    "    output = np.empty_like(images,shape=(len(images),32,32,1))\n",
    "    \n",
    "    for i in range(len(images)):    \n",
    "        if (type==1):\n",
    "            #type1: gray image and histogram equalization\n",
    "            equalized = hist_equaliz(images[i])\n",
    "            \n",
    "            grayed = cv.cvtColor(equalized, cv.COLOR_RGB2YCrCb)[:,:,0]\n",
    "            grayed = np.expand_dims(grayed, axis=2)\n",
    "            \n",
    "            output[i] = grayed# np.append(output,grayed,axis=0)\n",
    "            \n",
    "        elif (type==2):\n",
    "            #type2: gray image and CLAHE\n",
    "            grayimg = cv.cvtColor(images[i], cv.COLOR_BGR2GRAY)\n",
    "            output[i] = np.expand_dims(applyCLAHE(grayimg), axis=2) \n",
    "        elif (type==3):\n",
    "            #type: only CLAHE\n",
    "\n",
    "            output[i] = np.expand_dims(applyCLAHE(images[i]), axis=2)         \n",
    "    return output\n",
    "\n",
    "\n"
   ]
  },
  {
   "cell_type": "code",
   "execution_count": 23,
   "metadata": {},
   "outputs": [],
   "source": [
    "#type1: gray image and histogram equalization\n",
    "#type2: gray image and CLAHE\n",
    "#X_train_eq_gray = applyEqualizationAndGray(X_train,type=1)\n",
    "X_train_CLAHE_gray = applyEqualizationAndGray(X_train,type=2)\n",
    "\n",
    "#X_valid_eq_gray = applyEqualizationAndGray(X_valid,type=1)\n",
    "X_valid_CLAHE_gray = applyEqualizationAndGray(X_valid,type=2)\n",
    "\n",
    "#X_test_eq_gray = applyEqualizationAndGray(X_test,type=1)\n",
    "X_test_CLAHE_gray = applyEqualizationAndGray(X_test,type=2)\n",
    "    \n",
    "    \n",
    "#plot_samples_from_all_classes(X_train_eq_gray,y_train)\n",
    "#plot_samples_from_all_classes(X_train_CLAHE_gray,y_train)\n",
    "#plot_samples_from_all_classes(X_valid,y_valid)\n",
    "#plot_samples_from_all_classes(X_test,y_test)"
   ]
  },
  {
   "cell_type": "code",
   "execution_count": null,
   "metadata": {},
   "outputs": [],
   "source": []
  },
  {
   "cell_type": "markdown",
   "metadata": {},
   "source": [
    "# convert all images to grayscale"
   ]
  },
  {
   "cell_type": "code",
   "execution_count": 24,
   "metadata": {},
   "outputs": [
    {
     "name": "stdout",
     "output_type": "stream",
     "text": [
      "(32, 32, 3)\n"
     ]
    },
    {
     "data": {
      "image/png": "[encoded data removed]",
      "text/plain": [
       "<Figure size 432x288 with 1 Axes>"
      ]
     },
     "metadata": {
      "needs_background": "light"
     },
     "output_type": "display_data"
    }
   ],
   "source": [
    "#convert to grayscale\n",
    "\n",
    "import cv2\n",
    "import numpy as np\n",
    "\n",
    "def gray(x):\n",
    "    # convert to grayscale and keep the Y channel only\n",
    "    # as suggested by Sermanet et al.\n",
    "    output = []\n",
    "    for i in range(x.shape[0]):\n",
    "\n",
    "        gray = cv2.cvtColor(x[i], cv2.COLOR_RGB2YCrCb)        \n",
    "        output.append(np.expand_dims(gray[:,:,0], axis=2))\n",
    "        \n",
    "    return np.array(output)\n",
    "\n",
    "#X_train = gray(X_train)\n",
    "#X_valid = gray(X_valid)\n",
    "#X_test = gray(X_test)\n",
    "\n",
    "plt.imshow(X_train[9960].squeeze(),cmap='gray')\n",
    "print(X_train[0].shape)\n",
    "\n",
    "  "
   ]
  },
  {
   "cell_type": "code",
   "execution_count": 25,
   "metadata": {},
   "outputs": [
    {
     "name": "stdout",
     "output_type": "stream",
     "text": [
      "(32, 32, 3)\n"
     ]
    },
    {
     "data": {
      "image/png": "[encoded data removed]",
      "text/plain": [
       "<Figure size 432x288 with 1 Axes>"
      ]
     },
     "metadata": {
      "needs_background": "light"
     },
     "output_type": "display_data"
    }
   ],
   "source": [
    "plt.imshow(X_train[9960].squeeze(),cmap='gray')\n",
    "print(X_train[0].shape)"
   ]
  },
  {
   "cell_type": "code",
   "execution_count": 26,
   "metadata": {},
   "outputs": [],
   "source": [
    "#plot_samples_from_all_classes(X_train,y_train,color='gray')\n",
    "#plot_samples_from_all_classes(X_valid,y_valid,color='gray')\n",
    "#plot_samples_from_all_classes(X_test,y_test,color='gray')"
   ]
  },
  {
   "cell_type": "code",
   "execution_count": 27,
   "metadata": {},
   "outputs": [],
   "source": [
    "def save_pickle_file(filename,features,labels):\n",
    "    assert(len(features) == len(labels))\n",
    "    data = {'features':features,'labels':labels}\n",
    "    \n",
    "    with open(filename, mode='wb') as f:\n",
    "        pickle.dump(data, f) "
   ]
  },
  {
   "cell_type": "markdown",
   "metadata": {},
   "source": [
    "# Save new Validation and Test image pickle files"
   ]
  },
  {
   "cell_type": "code",
   "execution_count": null,
   "metadata": {},
   "outputs": [],
   "source": [
    "# save new pickle files, including validation and testing\n",
    "#train_gray_file= '../traffic-signs-data/train_equal_gray.p'\n",
    "\n",
    "filename= '../traffic-signs-data/train_clahe_no_aug.p'\n",
    "save_pickle_file(filename,X_train_CLAHE_gray,y_train)\n",
    "\n",
    "filename= '../traffic-signs-data/valid_clahe_no_aug.p'\n",
    "save_pickle_file(filename,X_valid_CLAHE_gray,y_valid)\n",
    "\n",
    "filename= '../traffic-signs-data/test_clahe_no_aug.p'\n",
    "save_pickle_file(filename,X_test_CLAHE_gray,y_test)\n",
    "\n",
    "#filename= '../traffic-signs-data/train_eq_gray_no_aug.p'\n",
    "#save_pickle_file(filename,X_train_eq_gray,y_train)\n",
    "\n",
    "#filename= '../traffic-signs-data/valid_eq_gray_no_aug.p'\n",
    "#save_pickle_file(filename,X_valid_eq_gray,y_valid)\n",
    "\n",
    "#filename= '../traffic-signs-data/test_eq_gray_no_aug.p'\n",
    "#save_pickle_file(filename,X_test_eq_gray,y_test)"
   ]
  },
  {
   "cell_type": "markdown",
   "metadata": {},
   "source": [
    "# dataset balancing and augmentation"
   ]
  },
  {
   "cell_type": "code",
   "execution_count": null,
   "metadata": {},
   "outputs": [],
   "source": [
    "# Sometimes(0.5, ...) applies the given augmenter in 50% of all cases,\n",
    "# e.g. Sometimes(0.5, GaussianBlur(0.3)) would blur roughly every second image.\n",
    "sometimes = lambda aug: iaa.Sometimes(0.5, aug)\n",
    "\n",
    "# Define our sequence of augmentation steps that will be applied to every image\n",
    "# All augmenters with per_channel=0.5 will sample one value _per image_\n",
    "# in 50% of all cases. In all other cases they will sample new values\n",
    "# _per channel_.\n",
    "\n",
    "seq = iaa.Sequential(\n",
    "    [\n",
    "        # apply the following augmenters to all images\n",
    "        iaa.Alpha((0.0, 1.0), iaa.HistogramEqualization()),\n",
    "        iaa.Fliplr(0.5),\n",
    "        # crop images by -5% to 10% of their height/width\n",
    "        sometimes(iaa.CropAndPad(\n",
    "            percent=(-0.1, 0.1),\n",
    "            pad_cval=(0, 255)\n",
    "        )),\n",
    "        sometimes(iaa.Affine(\n",
    "            translate_percent={\"x\": (-0.2, 0.2), \"y\": (-0.2, 0.2)}, # translate by -20 to +20 percent (per axis)\n",
    "            rotate=(-40, 40), # rotate by -45 to +45 degrees\n",
    "            shear=(-20, 20), # shear by -16 to +16 degrees \n",
    "        )),\n",
    "        # execute 0 to 5 of the following (less important) augmenters per image\n",
    "        # don't execute all of them, as that would often be way too strong\n",
    "        iaa.SomeOf((0, 5),\n",
    "            [\n",
    "                #sometimes(iaa.Superpixels(p_replace=(0, 1.0), n_segments=(20, 200))), # convert images into their superpixel representation\n",
    "                #iaa.OneOf([\n",
    "                #    iaa.GaussianBlur((0, 1.5)), # blur images with a sigma between 0 and 3.0\n",
    "                #    iaa.AverageBlur(k=(1, 3)), # blur image using local means with kernel sizes between 2 and 7\n",
    "                #    iaa.MedianBlur(k=(1, 3)), # blur image using local medians with kernel sizes between 2 and 7\n",
    "                #]),\n",
    "                iaa.GaussianBlur((0, 1.5)), # blur images with a sigma between 0 and 3.0\n",
    "                iaa.Sharpen(alpha=(0, 1.0), lightness=(0.75, 1.5)), # sharpen images\n",
    "                #iaa.Emboss(alpha=(0, 1.0), strength=(0, 1.5)), # emboss images\n",
    "                iaa.LinearContrast((1, 2.0)), # improve the contrast\n",
    "            ],\n",
    "            random_order=True\n",
    "        )\n",
    "    ],\n",
    "    random_order=True\n",
    ")\n",
    "\n",
    "seq2 = iaa.Sequential(\n",
    "    [\n",
    "        iaa.SomeOf((1, 2),\n",
    "            [\n",
    "                # apply the following augmenters to all images\n",
    "                iaa.Alpha((0.0, 1.0), iaa.HistogramEqualization()),\n",
    "                iaa.Fliplr(0.5),\n",
    "                # crop images by -5% to 10% of their height/width\n",
    "                sometimes(iaa.CropAndPad(\n",
    "                    percent=(-0.1, 0.1),\n",
    "                    pad_cval=(0, 255)\n",
    "                )),\n",
    "                sometimes(iaa.Affine(\n",
    "                    scale={\"x\": (0.8, 1.2), \"y\": (0.8, 1.2)},\n",
    "                    # translate by -20 to +20 percent (per axis)\n",
    "                    translate_percent={\"x\": (-0.2, 0.2), \"y\": (-0.2, 0.2)}, \n",
    "                    # rotate by -45 to +45 degrees\n",
    "                    rotate=(-45, 45), \n",
    "                    # shear by -20 to +20 degrees\n",
    "                    shear=(-20, 20),  \n",
    "                )),\n",
    "            ],\n",
    "            random_order=True\n",
    "        )\n",
    "    ],\n",
    "    random_order=True\n",
    ")\n",
    "\n",
    "seq3 = iaa.Sequential(\n",
    "    [\n",
    "        iaa.SomeOf((2, 4),\n",
    "            [\n",
    "                \n",
    "                iaa.Fliplr(0.5),\n",
    "                # crop images by -5% to 10% of their height/width\n",
    "                sometimes(iaa.CropAndPad(\n",
    "                    percent=(-0.1, 0.1),\n",
    "                    pad_cval=(0, 255)\n",
    "                )),\n",
    "                sometimes(iaa.Affine(\n",
    "                    scale={\"x\": (0.8, 1.2), \"y\": (0.8, 1.2)},\n",
    "                    # translate by -20 to +20 percent (per axis)\n",
    "                    translate_percent={\"x\": (-0.2, 0.2), \"y\": (-0.2, 0.2)}, \n",
    "                    # rotate by -45 to +45 degrees\n",
    "                    rotate=(-45, 45), \n",
    "                    # shear by -20 to +20 degrees\n",
    "                    shear=(-20, 20),  \n",
    "                )),\n",
    "            ],\n",
    "            random_order=True\n",
    "        )\n",
    "    ],\n",
    "    random_order=True\n",
    ")\n",
    "seq4 = iaa.Sequential(\n",
    "    [\n",
    "        iaa.SomeOf((1, 2),\n",
    "            [\n",
    "                \n",
    "                iaa.Fliplr(0.5),\n",
    "                # crop images by -5% to 10% of their height/width\n",
    "                sometimes(iaa.CropAndPad(\n",
    "                    percent=(-0.1, 0.1),\n",
    "                    pad_cval=(0, 255)\n",
    "                )),\n",
    "                sometimes(iaa.Affine(\n",
    "                    scale={\"x\": (0.8, 1.2), \"y\": (0.8, 1.2)},\n",
    "                    # translate by -20 to +20 percent (per axis)\n",
    "                    translate_percent={\"x\": (-0.2, 0.2), \"y\": (-0.2, 0.2)}, \n",
    "                    # rotate by -45 to +45 degrees\n",
    "                    rotate=(-45, 45), \n",
    "                    # shear by -20 to +20 degrees\n",
    "                    shear=(-20, 20),  \n",
    "                )),\n",
    "            ],\n",
    "            random_order=True\n",
    "        )\n",
    "    ],\n",
    "    random_order=True\n",
    ")\n",
    "seq5 = iaa.Sequential(\n",
    "    [\n",
    "        iaa.SomeOf((1, 2),\n",
    "            [\n",
    "                # crop images by -5% to 10% of their height/width\n",
    "                sometimes(iaa.CropAndPad(\n",
    "                    percent=(-0.1, 0.1),\n",
    "                    pad_cval=(0, 255)\n",
    "                )),\n",
    "                sometimes(iaa.Affine(\n",
    "                    scale={\"x\": (0.8, 1.2), \"y\": (0.8, 1.2)},\n",
    "                    # translate by -20 to +20 percent (per axis)\n",
    "                    translate_percent={\"x\": (-0.2, 0.2), \"y\": (-0.2, 0.2)}, \n",
    "                    # rotate by -45 to +45 degrees\n",
    "                    rotate=(-45, 45), \n",
    "                    # shear by -20 to +20 degrees\n",
    "                    shear=(-20, 20),  \n",
    "                )),\n",
    "            ],\n",
    "            random_order=True\n",
    "        )\n",
    "    ],\n",
    "    random_order=True\n",
    ")\n",
    "def populate_class_size_normalization_table(item_counts):\n",
    "    max_val = np.max(item_counts)\n",
    "    aug_table = pd.DataFrame({'class_id':[i for i in range(43)],\n",
    "                             'img_cnt':item_counts,\n",
    "                             'should_be':max_val,\n",
    "                             'to_add':0,\n",
    "                             'class_aug_factor':0})\n",
    "    \n",
    "    for current_class, val in enumerate(item_counts):\n",
    "        add = max_val - val\n",
    "\n",
    "        aug_factor = int(np.floor(add/val))+1\n",
    "\n",
    "        aug_table.at[current_class,'to_add']=add\n",
    "        aug_table.at[current_class,'class_aug_factor']=aug_factor\n",
    "   \n",
    "    return aug_table\n",
    "\n",
    "def augment(aug_table,images,labels,augmentations=None,augment_percent=50):\n",
    "    new_images = np.array([])\n",
    "    new_lables = np.array([])\n",
    "    \n",
    "    for row in range(aug_table.shape[0]):\n",
    "        #current class\n",
    "        current_class = aug_table.loc[row].at['class_id']\n",
    "    \n",
    "        # get the indexes of the images whose label\n",
    "        # corresponds to current_class\n",
    "        itemindex = np.where(labels==current_class)\n",
    "        \n",
    "        # select all images that correspond to the current class\n",
    "        images_of_this_class = images[itemindex[0:2]]\n",
    "        \n",
    "        #current class population?\n",
    "        class_size = aug_table.loc[row].at['img_cnt']\n",
    "        \n",
    "        assert(class_size == len(images_of_this_class))\n",
    "        \n",
    "        #target size\n",
    "        target_size = aug_table.loc[row].at['should_be']\n",
    "        \n",
    "        if (augment_percent>0):\n",
    "            target_size = target_size + np.floor(target_size*augment_percent/100)\n",
    "        \n",
    "        print(\"augmenting class {} from {} to {} unique images\".format(current_class,class_size,target_size))\n",
    "        \n",
    "\n",
    "        while (len(images_of_this_class)<target_size):\n",
    "             \n",
    "            #pick one of the original images\n",
    "            random_img_idx = np.random.randint(0,class_size)\n",
    "            \n",
    "            #pick the image\n",
    "            original = images_of_this_class[random_img_idx]\n",
    "\n",
    "            #pass it to some filters\n",
    "            edited_img = augmentations(image=original.squeeze())\n",
    "            edited_img = np.expand_dims(edited_img, axis=2)\n",
    "            \n",
    "            #check if edited image already exists, if not, add it to the array\n",
    "            for i in range(len(images_of_this_class)):\n",
    "                if np.array_equal(edited_img, images_of_this_class[i]):\n",
    "                    #print(\"image already exist\")\n",
    "                    break\n",
    "\n",
    "            #add the image and the label            \n",
    "            edited_img = np.expand_dims(edited_img, axis=0)\n",
    "            images_of_this_class = np.append(images_of_this_class,edited_img,axis=0)\n",
    "            \n",
    "\n",
    "        labels_of_this_class = np.array([current_class]*len(images_of_this_class))\n",
    "        assert(len(labels_of_this_class) == len(images_of_this_class)) \n",
    "        \n",
    "        #add new class images to the dataset\n",
    "        if (new_images.shape[0]==0):\n",
    "            new_images = images_of_this_class\n",
    "            new_lables = labels_of_this_class\n",
    "        else:\n",
    "            new_images= np.append(new_images,images_of_this_class,axis=0)\n",
    "            new_lables= np.append(new_lables,labels_of_this_class,axis=0)\n",
    "    \n",
    "    return new_images,new_lables"
   ]
  },
  {
   "cell_type": "code",
   "execution_count": null,
   "metadata": {},
   "outputs": [],
   "source": [
    "aug_table = None \n",
    "df = pd.DataFrame({'sign':list(y_train)}) \n",
    "item_counts = df[\"sign\"].value_counts().sort_index()\n",
    "aug_table = populate_class_size_normalization_table(item_counts)\n",
    "\n",
    "#print(X_train.shape,y_train.shape)\n",
    "#t0 = datetime.datetime.now()\n",
    "#x_seq,y_seq = augment(aug_table,X_train_CLAHE_gray,y_train,augmentations=seq,augment_percent=0)\n",
    "#x_seq3,y_seq3 = augment(aug_table,X_train_CLAHE_gray,y_train,augmentations=seq,augment_percent=0)\n",
    "#x_seq4,y_seq4 = augment(aug_table,X_train_CLAHE_gray,y_train,augmentations=seq4,augment_percent=0)\n",
    "x_seq5,y_seq5 = augment(aug_table,X_train_CLAHE_gray,y_train,augmentations=seq5,augment_percent=100)\n",
    "#print(x.shape,y.shape)\n",
    "#t1 = datetime.datetime.now()\n",
    "#print((t1-t0).seconds)\n",
    "\n",
    "#plot_samples_from_all_classes(x_seq,y_seq,color='gray')\n",
    "plot_samples_from_all_classes(x_seq5,y_seq5,color='gray')\n",
    "filename = '../traffic-signs-data/train_CLAHE_seq5_aug_factor_100.p'\n",
    "save_pickle_file(filename,x_seq5,y_seq5)\n",
    "\n"
   ]
  },
  {
   "cell_type": "markdown",
   "metadata": {},
   "source": [
    "# processing my own pitcures\n",
    "https://machinelearningmastery.com/how-to-manually-scale-image-pixel-data-for-deep-learning/\n",
    "https://machinelearningmastery.com/how-to-save-a-numpy-array-to-file-for-machine-learning/"
   ]
  },
  {
   "cell_type": "code",
   "execution_count": 58,
   "metadata": {},
   "outputs": [
    {
     "name": "stdout",
     "output_type": "stream",
     "text": [
      "Data Type: uint8\n",
      "Min: 1.000, Max: 255.000\n",
      "Min: 0.004, Max: 1.000\n"
     ]
    }
   ],
   "source": [
    "# example of pixel normalization\n",
    "from numpy import asarray\n",
    "from PIL import Image\n",
    "# load image\n",
    "image = Image.open('/Users/giorgio/Documents/Udacity_SDC/P3-LeNet_traffic_signs/P3-Traffic-Sign-Classifier/additional-signs/type_17_0.png').convert('LA')\n",
    "pixels = asarray(image)\n",
    "# confirm pixel range is 0-255\n",
    "print('Data Type: %s' % pixels.dtype)\n",
    "print('Min: %.3f, Max: %.3f' % (pixels.min(), pixels.max()))\n",
    "# convert from integers to floats\n",
    "pixels = pixels.astype('float32')\n",
    "# normalize to the range 0-1\n",
    "pixels /= 255.0\n",
    "# confirm the normalization\n",
    "print('Min: %.3f, Max: %.3f' % (pixels.min(), pixels.max()))"
   ]
  },
  {
   "cell_type": "code",
   "execution_count": 57,
   "metadata": {},
   "outputs": [
    {
     "name": "stdout",
     "output_type": "stream",
     "text": [
      "Mean: 197.418\n",
      "Min: 1.000, Max: 255.000\n",
      "Mean: -0.000\n",
      "Min: -196.418, Max: 57.582\n"
     ]
    }
   ],
   "source": [
    "# example of global centering (subtract mean)\n",
    "from numpy import asarray\n",
    "from PIL import Image\n",
    "# load image\n",
    "image = Image.open('/Users/giorgio/Documents/Udacity_SDC/P3-LeNet_traffic_signs/P3-Traffic-Sign-Classifier/additional-signs/type_17_0.png').convert('LA')\n",
    "pixels = asarray(image)\n",
    "# convert from integers to floats\n",
    "pixels = pixels.astype('float32')\n",
    "# calculate global mean\n",
    "mean = pixels.mean()\n",
    "print('Mean: %.3f' % mean)\n",
    "print('Min: %.3f, Max: %.3f' % (pixels.min(), pixels.max()))\n",
    "# global centering of pixels\n",
    "pixels = pixels - mean\n",
    "# confirm it had the desired effect\n",
    "mean = pixels.mean()\n",
    "print('Mean: %.3f' % mean)\n",
    "print('Min: %.3f, Max: %.3f' % (pixels.min(), pixels.max()))"
   ]
  },
  {
   "cell_type": "code",
   "execution_count": 59,
   "metadata": {},
   "outputs": [
    {
     "name": "stdout",
     "output_type": "stream",
     "text": [
      "Mean: 197.418, Standard Deviation: 72.702\n",
      "Mean: -0.000, Standard Deviation: 1.000\n",
      "Min: -2.702, Max: 0.792\n"
     ]
    }
   ],
   "source": [
    "# example of global pixel standardization\n",
    "from numpy import asarray\n",
    "from PIL import Image\n",
    "# load image\n",
    "image = Image.open('/Users/giorgio/Documents/Udacity_SDC/P3-LeNet_traffic_signs/P3-Traffic-Sign-Classifier/additional-signs/type_17_0.png').convert('LA')\n",
    "pixels = asarray(image)\n",
    "# convert from integers to floats\n",
    "pixels = pixels.astype('float32')\n",
    "# calculate global mean and standard deviation\n",
    "mean, std = pixels.mean(), pixels.std()\n",
    "print('Mean: %.3f, Standard Deviation: %.3f' % (mean, std))\n",
    "# global standardization of pixels\n",
    "pixels = (pixels - mean) / std\n",
    "# confirm it had the desired effect\n",
    "mean, std = pixels.mean(), pixels.std()\n",
    "print('Mean: %.3f, Standard Deviation: %.3f' % (mean, std))\n",
    "print('Min: %.3f, Max: %.3f' % (pixels.min(), pixels.max()))"
   ]
  },
  {
   "cell_type": "code",
   "execution_count": 60,
   "metadata": {},
   "outputs": [
    {
     "name": "stdout",
     "output_type": "stream",
     "text": [
      "Mean: 197.418, Standard Deviation: 72.702\n",
      "Mean: 0.113, Standard Deviation: 0.810\n",
      "Min: -1.000, Max: 0.792\n",
      "LA\n",
      "(612, 644)\n"
     ]
    }
   ],
   "source": [
    "# example of global pixel standardization shifted to positive domain\n",
    "from numpy import asarray\n",
    "from numpy import clip\n",
    "from PIL import Image\n",
    "from numpy import save\n",
    "# load numpy array from npy file\n",
    "from numpy import load\n",
    "# load image\n",
    "image = Image.open('/Users/giorgio/Documents/Udacity_SDC/P3-LeNet_traffic_signs/P3-Traffic-Sign-Classifier/additional-signs/type_17_0.png').convert('LA')\n",
    "pixels = asarray(image)\n",
    "# convert from integers to floats\n",
    "pixels = pixels.astype('float32')\n",
    "# calculate global mean and standard deviation\n",
    "mean, std = pixels.mean(), pixels.std()\n",
    "print('Mean: %.3f, Standard Deviation: %.3f' % (mean, std))\n",
    "# global standardization of pixels\n",
    "pixels = (pixels - mean) / std\n",
    "# clip pixel values to [-1,1]\n",
    "pixels = clip(pixels, -1.0, 1.0)\n",
    "# shift from [-1,1] to [0,1] with 0.5 mean\n",
    "#pixels = (pixels + 1.0) / 2.0\n",
    "# confirm it had the desired effect\n",
    "mean, std = pixels.mean(), pixels.std()\n",
    "print('Mean: %.3f, Standard Deviation: %.3f' % (mean, std))\n",
    "print('Min: %.3f, Max: %.3f' % (pixels.min(), pixels.max()))\n",
    "print(image.mode)\n",
    "print(image.size)\n",
    "\n"
   ]
  },
  {
   "cell_type": "code",
   "execution_count": 28,
   "metadata": {},
   "outputs": [],
   "source": [
    "\n",
    "# example of global pixel standardization shifted to positive domain\n",
    "from numpy import asarray\n",
    "from numpy import clip\n",
    "from PIL import Image\n",
    "from numpy import save\n",
    "# load numpy array from npy file\n",
    "from numpy import load\n",
    "# load image\n",
    "\n",
    "\n",
    "\n",
    "def resizeAndPad(pil_img,target_h,target_w):\n",
    "    pil_img.thumbnail((target_h,target_w))\n",
    "\n",
    "    width, height = pil_img.size\n",
    "\n",
    "    if width == height:\n",
    "        return pil_img\n",
    "    elif width > height:\n",
    "        result = Image.new(pil_img.mode, (width, width))\n",
    "        result.paste(pil_img, (0, (width - height) // 2))\n",
    "        return result\n",
    "    else:\n",
    "        result = Image.new(pil_img.mode, (height, height))\n",
    "        result.paste(pil_img, ((height - width) // 2, 0))\n",
    "        return result\n"
   ]
  },
  {
   "cell_type": "code",
   "execution_count": 51,
   "metadata": {},
   "outputs": [],
   "source": [
    "import glob, os\n",
    "cwd = os.getcwd()\n",
    "\n",
    "def preprocess_own_pictures():\n",
    "    root = '/Users/giorgio/Documents/Udacity_SDC/P3-LeNet_traffic_signs/P3-Traffic-Sign-Classifier/'\n",
    "    os.chdir(\"{}additional-signs/\".format(root))\n",
    "    data = {'features':np.empty([0,32,32,1]),'labels':np.empty([0])}\n",
    "\n",
    "    for file in glob.glob(\"*.png\"):\n",
    "        image = Image.open(file).convert('L')\n",
    "        im_new = resizeAndPad(image,32,32)\n",
    "        pix = np.array(im_new)\n",
    "        pix_exd = np.expand_dims(np.expand_dims(pix,axis=2),axis=0)\n",
    "        #pix_exd = np.expand_dims(pix,axis=0)\n",
    "        data['features'] = np.append(data['features'],pix_exd,axis=0)\n",
    "        sign_number = file.split('_')[1]\n",
    "        data['labels'] = np.append(data['labels'],int(sign_number))\n",
    "    return data\n",
    "\n",
    "own_pics = preprocess_own_pictures()\n",
    "\n",
    "X_own_test = applyEqualizationAndGray(np.uint8(own_pics['features']),type=3)\n",
    "\n",
    "filename= '/Users/giorgio/Documents/Udacity_SDC/P3-LeNet_traffic_signs/traffic-signs-data/own_pictures.p'\n",
    "save_pickle_file(filename,X_own_test,own_pics['labels'])\n",
    "\n",
    "#img_num = 18\n",
    "#print(data['labels'][img_num])\n",
    "#plt.imshow(data['features'][img_num],cmap='gray')\n",
    "#image = Image.open('additional-signs/IMG_2439.png').convert('LA')\n",
    "#im_new.save('additional-signs/IMG_2437_resize.png')\n",
    "#image2 = Image.open('additional-signs/IMG_2437_resize.png')\n",
    "#print(image2.format)\n",
    "#print(image2.mode)\n",
    "#print(image2.size)\n",
    "#image2.show()"
   ]
  },
  {
   "cell_type": "code",
   "execution_count": null,
   "metadata": {},
   "outputs": [],
   "source": [
    "hello = '3'\n",
    "print(type(int(hello)))"
   ]
  },
  {
   "cell_type": "markdown",
   "metadata": {},
   "source": [
    "# helper function: add noise"
   ]
  },
  {
   "cell_type": "code",
   "execution_count": null,
   "metadata": {},
   "outputs": [],
   "source": [
    "%matplotlib inline\n",
    "def add_noise(img,noise_min, noise_max):\n",
    "    h,w,c = img.shape\n",
    "    # generate noise\n",
    "    noise = np.random.randint(noise_min,noise_max,(h, w))\n",
    "    \n",
    "    # consider the channels of the input image\n",
    "    if c == 1:\n",
    "        noise_filter = np.zeros_like(img).squeeze()\n",
    "        noise_filter[:,:] = noise      \n",
    "        noise_added = cv.add(img, noise_filter)\n",
    "        noise_added = np.expand_dims(noise_added, axis=2) \n",
    "    \n",
    "    elif c == 3:\n",
    "        noise_filter = np.zeros_like(img)\n",
    "        noise_filter[:,:,1] = noise\n",
    "        noise_added = cv.add(img, noise_filter)\n",
    "       \n",
    "    out_h,out_w,out_c = noise_added.shape\n",
    "    \n",
    "    assert(c==out_c)\n",
    "    \n",
    "    return noise_added\n",
    "\n",
    "\n",
    "img = X_train[0]\n",
    "noise_50 = add_noise(img,21,50)\n",
    "noise_20 = add_noise(img,11,20)\n",
    "noise_10 = add_noise(img,0,10)\n",
    "\n",
    "\n",
    "f, (ax1,ax2,ax3,ax4) = plt.subplots(1,4,)\n",
    "    #print(axes)\n",
    " \n",
    "f.tight_layout()\n",
    "ax1.imshow(img.squeeze(),cmap='gray')\n",
    "ax2.imshow(noise_50.squeeze(),cmap='gray') \n",
    "ax3.imshow(noise_20.squeeze(),cmap='gray')\n",
    "ax4.imshow(noise_10.squeeze(),cmap='gray')\n",
    "\n"
   ]
  },
  {
   "cell_type": "markdown",
   "metadata": {},
   "source": [
    "# helper function: flip images"
   ]
  },
  {
   "cell_type": "code",
   "execution_count": null,
   "metadata": {},
   "outputs": [],
   "source": [
    "def flip_image(img, orientation = 'vertical'):\n",
    "    \n",
    "    if (orientation=='vertical'):\n",
    "        return cv.flip(img, 0)\n",
    "    elif (orientation=='horizontal'):\n",
    "        return cv.flip(img, 1)\n",
    "    elif (orientation=='both'):\n",
    "        return cv.flip(img, -1)\n",
    "        \n",
    "            \n",
    "horizontal_flip = flip_image(X_train[0],orientation = 'horizontal')\n",
    "vertical_flip = flip_image(X_train[0],orientation = 'vertical')\n",
    "both = flip_image(X_train[0],orientation = 'both')\n",
    "f, (ax1,ax2,ax3,ax4) = plt.subplots(1,4,)\n",
    "    #print(axes)\n",
    " \n",
    "f.tight_layout()\n",
    "ax1.imshow(X_train[0].squeeze(),cmap='gray')\n",
    "ax2.imshow(horizontal_flip.squeeze(),cmap='gray') \n",
    "ax3.imshow(vertical_flip.squeeze(),cmap='gray')\n",
    "ax4.imshow(both.squeeze(),cmap='gray')"
   ]
  },
  {
   "cell_type": "markdown",
   "metadata": {},
   "source": [
    "# helper function: rotate images"
   ]
  },
  {
   "cell_type": "code",
   "execution_count": null,
   "metadata": {},
   "outputs": [],
   "source": [
    "from PIL import Image\n",
    "\n",
    "def rotate_img(img_array, rt_degr):\n",
    "    #rotate and keep the image size\n",
    "    w,h = img_array.shape\n",
    "    img = Image.fromarray(img_array,mode='L')\n",
    "    rot = img.rotate(rt_degr, expand=1)\n",
    "    resize = rot.resize((w, h))\n",
    "    return np.array(resize)\n",
    "\n",
    "\n",
    "\n",
    "img_rt_p90 = rotate_img(X_train[0].squeeze(), 90)\n",
    "img_rt_p45 = rotate_img(X_train[0].squeeze(), 45)\n",
    "img_rt_p15 = rotate_img(X_train[0].squeeze(), 15)\n",
    "img_rt_m15 = rotate_img(X_train[0].squeeze(), -15)\n",
    "f, (ax1,ax2,ax3,ax4,ax5) = plt.subplots(1,5,)\n",
    "    #print(axes)\n",
    " \n",
    "f.tight_layout()\n",
    "ax1.imshow(X_train[0].squeeze(),cmap='gray')\n",
    "ax2.imshow(img_rt_p90.squeeze(),cmap='gray') \n",
    "ax3.imshow(img_rt_p45.squeeze(),cmap='gray')\n",
    "ax4.imshow(img_rt_p15.squeeze(),cmap='gray')\n",
    "ax5.imshow(img_rt_m15.squeeze(),cmap='gray')"
   ]
  },
  {
   "cell_type": "markdown",
   "metadata": {},
   "source": [
    "# helper function: translate images"
   ]
  },
  {
   "cell_type": "code",
   "execution_count": null,
   "metadata": {},
   "outputs": [],
   "source": [
    "%matplotlib inline\n",
    "def img_translation(img,tx,ty):\n",
    "    # get the image shape\n",
    "    rows, cols = img.shape\n",
    "    # transformation matrix for translation\n",
    "    M = np.float32([[1, 0, tx],\n",
    "                    [0, 1, ty],\n",
    "                    [0, 0, 1]])\n",
    "    # apply a perspective transformation to the image\n",
    "    return cv.warpPerspective(img, M, (cols, rows))\n",
    "\n",
    "\n",
    "translate11 = img_translation(X_train[0].squeeze(), 1,7)\n",
    "translate1010 = img_translation(X_train[0].squeeze(), -7,-1)\n",
    "translate2020 = img_translation(X_train[0].squeeze(), -4,8)\n",
    "\n",
    "\n",
    "f, (ax1,ax2,ax3,ax4) = plt.subplots(1,4)\n",
    "    #print(axes)\n",
    " \n",
    "f.tight_layout()\n",
    "ax1.imshow(X_train[0].squeeze(),cmap='gray')\n",
    "ax2.imshow(translate11.squeeze(),cmap='gray') \n",
    "ax3.imshow(translate1010.squeeze(),cmap='gray')\n",
    "ax4.imshow(translate2020.squeeze(),cmap='gray')\n",
    "  \n",
    "    \n"
   ]
  },
  {
   "cell_type": "markdown",
   "metadata": {},
   "source": [
    "# Helper function: Crop and pad"
   ]
  },
  {
   "cell_type": "code",
   "execution_count": null,
   "metadata": {},
   "outputs": [],
   "source": [
    "\n",
    "def crop_and_pad(img,perc_min, perc_max): \n",
    "    \n",
    "    aug = iaa.CropAndPad(\n",
    "        percent=(perc_min, perc_max),\n",
    "        #pad_mode=ia.ALL,\n",
    "        pad_cval=(0, 255)\n",
    "    )\n",
    "\n",
    "    aug_img = aug(image=img)      \n",
    "    return aug_img\n",
    "\n",
    "\n",
    "cropPad1 = crop_and_pad(X_train[0].squeeze(),-0.1, -0.01)\n",
    "cropPad2 = crop_and_pad(X_train[0].squeeze(),0.1, 0.1)\n",
    "val_min = np.random.uniform(-0.1,-0.01) # A single value\n",
    "val_max = np.random.uniform(0.01,0.1) # A single value\n",
    "print(val_min,val_max)\n",
    "\n",
    "cropPad3 = crop_and_pad(X_train[0].squeeze(),val_min, val_max)\n",
    "\n",
    "\n",
    "f, (ax1,ax2,ax3,ax4) = plt.subplots(1,4)\n",
    "    #print(axes)\n",
    " \n",
    "f.tight_layout()\n",
    "ax1.imshow(X_train[0].squeeze(),cmap='gray')\n",
    "ax2.imshow(cropPad1.squeeze(),cmap='gray') \n",
    "ax3.imshow(cropPad2.squeeze(),cmap='gray')\n",
    "ax4.imshow(cropPad3.squeeze(),cmap='gray')\n",
    "\n"
   ]
  },
  {
   "cell_type": "markdown",
   "metadata": {},
   "source": [
    "# Helper function: median blur"
   ]
  },
  {
   "cell_type": "code",
   "execution_count": null,
   "metadata": {},
   "outputs": [],
   "source": [
    "def MedianBlur(img): \n",
    "    \n",
    "    # blur image using local medians with kernel sizes between 2 and 5\n",
    "    aug = iaa.MedianBlur(k=(1, 3)) \n",
    "\n",
    "    aug_img = aug(image=img)      \n",
    "    return aug_img\n",
    "\n",
    "\n",
    "MedianBlur_aug = MedianBlur(X_train[0].squeeze())\n",
    "\n",
    "\n",
    "f, (ax1,ax2) = plt.subplots(1,2)\n",
    "    #print(axes)\n",
    " \n",
    "f.tight_layout()\n",
    "ax1.imshow(X_train[0].squeeze(),cmap='gray')\n",
    "ax2.imshow(MedianBlur_aug.squeeze(),cmap='gray') \n"
   ]
  },
  {
   "cell_type": "markdown",
   "metadata": {},
   "source": [
    "# Helper function: Gaussian blur"
   ]
  },
  {
   "cell_type": "code",
   "execution_count": null,
   "metadata": {},
   "outputs": [],
   "source": [
    "def GaussianBlur(img): \n",
    "    \n",
    "    # blur images with a sigma between 0 and 1.5\n",
    "    aug = iaa.GaussianBlur((0, 1.5)) \n",
    "\n",
    "    aug_img = aug(image=img)      \n",
    "    return aug_img\n",
    "\n",
    "\n",
    "GaussianBlur_aug = GaussianBlur(X_train[0].squeeze())\n",
    "\n",
    "\n",
    "f, (ax1,ax2) = plt.subplots(1,2)\n",
    "    #print(axes)\n",
    " \n",
    "f.tight_layout()\n",
    "ax1.imshow(X_train[0].squeeze(),cmap='gray')\n",
    "ax2.imshow(GaussianBlur_aug.squeeze(),cmap='gray') "
   ]
  },
  {
   "cell_type": "markdown",
   "metadata": {},
   "source": [
    "# Helper function: Average blur"
   ]
  },
  {
   "cell_type": "code",
   "execution_count": null,
   "metadata": {},
   "outputs": [],
   "source": [
    "def AverageBlur(img): \n",
    "    \n",
    "    # blur image using local means with kernel sizes between 1 and 3\n",
    "    aug = iaa.AverageBlur(k=(1, 3)) \n",
    "\n",
    "    aug_img = aug(image=img)      \n",
    "    return aug_img\n",
    "\n",
    "\n",
    "AverageBlur_aug = AverageBlur(X_train[0].squeeze())\n",
    "\n",
    "\n",
    "f, (ax1,ax2) = plt.subplots(1,2)\n",
    "    #print(axes)\n",
    " \n",
    "f.tight_layout()\n",
    "ax1.imshow(X_train[0].squeeze(),cmap='gray')\n",
    "ax2.imshow(AverageBlur_aug.squeeze(),cmap='gray') \n"
   ]
  },
  {
   "cell_type": "markdown",
   "metadata": {},
   "source": [
    "# Helper function: AdditiveGaussianNoise"
   ]
  },
  {
   "cell_type": "code",
   "execution_count": null,
   "metadata": {},
   "outputs": [],
   "source": [
    "\n",
    "def AdditiveGaussianNoise(img): \n",
    "    \n",
    "    # blur image using local means with kernel sizes between 1 and 3\n",
    "    aug = iaa.AdditiveGaussianNoise(loc=0, scale=(0.0, 0.05*128)) # add gaussian noise to images \n",
    "    #aug = iaa.Multiply((1, 1.5))\n",
    "\n",
    "    \n",
    "    aug_img = aug(image=img)      \n",
    "    return aug_img\n",
    "\n",
    "\n",
    "AdditiveGaussianNoise_aug = AdditiveGaussianNoise(X_train[0].squeeze())\n",
    "\n",
    "\n",
    "f, (ax1,ax2) = plt.subplots(1,2)\n",
    "    #print(axes)\n",
    " \n",
    "f.tight_layout()\n",
    "ax1.imshow(X_train[0].squeeze(),cmap='gray')\n",
    "ax2.imshow(AdditiveGaussianNoise_aug.squeeze(),cmap='gray') \n",
    "\n",
    "                    \n",
    "                    "
   ]
  },
  {
   "cell_type": "markdown",
   "metadata": {},
   "source": [
    "# Helper function: iaa.Multiply"
   ]
  },
  {
   "cell_type": "code",
   "execution_count": null,
   "metadata": {},
   "outputs": [],
   "source": [
    "def MultiplyNoise(img): \n",
    "    \n",
    "\n",
    "    aug = iaa.Multiply((0.5, 1.5))\n",
    "\n",
    "    \n",
    "    aug_img = aug(image=img)      \n",
    "    return aug_img\n",
    "\n",
    "\n",
    "MultiplyNoise_aug = MultiplyNoise(X_train[0].squeeze())\n",
    "\n",
    "\n",
    "f, (ax1,ax2) = plt.subplots(1,2)\n",
    "    #print(axes)\n",
    " \n",
    "f.tight_layout()\n",
    "ax1.imshow(X_train[0].squeeze(),cmap='gray')\n",
    "ax2.imshow(MultiplyNoise_aug.squeeze(),cmap='gray') \n",
    "\n",
    "    "
   ]
  },
  {
   "cell_type": "markdown",
   "metadata": {},
   "source": [
    "# helper function: Equalize the size of classes by proportional augmentation of  the number of images of some classes. "
   ]
  },
  {
   "cell_type": "code",
   "execution_count": null,
   "metadata": {},
   "outputs": [],
   "source": [
    "\n",
    "\n",
    "\n",
    "\n",
    "def augment_images(features,labels,item_counts,verbose=0):\n",
    "    #input image shape should be (32,32) and not (32,32,1) use squeeze()\n",
    "    aug_feats = features\n",
    "    aug_labs = labels\n",
    "    max_val = np.max(item_counts)\n",
    "    max_transf =0    \n",
    "   \n",
    "    for current_class, val in enumerate(item_counts):\n",
    "        add = max_val - val\n",
    "        if add/val > max_transf:\n",
    "            max_transf = add/val\n",
    "        aug_factor = int(np.floor(add/val))+1\n",
    "        print(\"class {} counts {}imgs-> it needs {} additional images, need {} transf per each img\".format(\n",
    "            current_class,\n",
    "            val,\n",
    "            add,\n",
    "            aug_factor))\n",
    "        \n",
    "        # get the indexes of the images whose label\n",
    "        # corresponds to current_class\n",
    "        itemindex = np.where(labels==current_class)\n",
    "\n",
    "        # select all images that correspond to the current class\n",
    "        images_of_this_class = features[itemindex[0:2]]\n",
    "        if(add>0):\n",
    "            print(\"current class counts {} images, need to be {}\".format(\n",
    "                len(images_of_this_class),\n",
    "                len(images_of_this_class)+add))\n",
    "            stop_augmenting = add\n",
    "            counter = 0\n",
    "            for im_num,i in enumerate(images_of_this_class):\n",
    "                if (counter > stop_augmenting):\n",
    "                    print(\"added {} images\".format(counter))\n",
    "                    break                    \n",
    "                for a in range(aug_factor):\n",
    "                    counter = counter + 1\n",
    "                    if (counter > stop_augmenting):\n",
    "                        break   \n",
    "                    #predefined augmentations\n",
    "                    if(a==0):\n",
    "                        if(verbose==1):\n",
    "                            print(\"augmenting with 90deg rotation\")\n",
    "                        img = rotate_img(i.squeeze(), 90)\n",
    "                        # add dimensions to match the shape of \n",
    "                        # original feature array\n",
    "                        img = np.expand_dims(img, axis=2)\n",
    "\n",
    "                    elif (a==1):\n",
    "                        if(verbose==1):\n",
    "                            print(\"augmenting with 45deg rotation\")\n",
    "                        img = rotate_img(i.squeeze(), 45)\n",
    "                        # add dimensions to match the shape of \n",
    "                        # original feature array\n",
    "                        img = np.expand_dims(img, axis=2)\n",
    "\n",
    "\n",
    "                    elif (a==2):\n",
    "                        if(verbose==1):\n",
    "                            print(\"augmenting with 15deg rotation\")\n",
    "                        img = rotate_img(i.squeeze(), 15)\n",
    "                        # add dimensions to match the shape of \n",
    "                        # original feature array\n",
    "                        img = np.expand_dims(img, axis=2)\n",
    "\n",
    "                    elif (a==3):\n",
    "                        if(verbose==1):\n",
    "                            print(\"augmenting with -15deg rotation\")\n",
    "                        img = rotate_img(i.squeeze(), -15)\n",
    "                        # add dimensions to match the shape of \n",
    "                        # original feature array\n",
    "                        img = np.expand_dims(img, axis=2)\n",
    "\n",
    "                    elif (a==4):\n",
    "                        if(verbose==1):\n",
    "                            print(\"augmenting with gaussian blur\")\n",
    "                        #img = add_noise(i,20,30)                        \n",
    "                        #apply a different type of blur\n",
    "                        #img = GaussianBlur(i.squeeze())\n",
    "                        img = rotate_img(i.squeeze(), 20)\n",
    "                        # add dimensions to match the shape of \n",
    "                        # original feature array\n",
    "                        img = np.expand_dims(img, axis=2)  \n",
    "                    \n",
    "                    elif (a==5):\n",
    "                        if(verbose==1):\n",
    "                            print(\"augmenting with average blur\")\n",
    "                        #img = add_noise(i,0,19)\n",
    "                        #apply a different type of blur\n",
    "                        #img = AverageBlur(i.squeeze())\n",
    "                        img = rotate_img(i.squeeze(), 30)\n",
    "                        # add dimensions to match the shape of \n",
    "                        # original feature array\n",
    "                        img = np.expand_dims(img, axis=2)                         \n",
    "                    \n",
    "                    elif (a==6):\n",
    "                        if(verbose==1):\n",
    "                            print(\"augmenting with median blur\")\n",
    "                        #apply a different type of blur\n",
    "                        #img = MedianBlur(i.squeeze())\n",
    "                        img = rotate_img(i.squeeze(), -20)\n",
    "                        # add dimensions to match the shape of \n",
    "                        # original feature array\n",
    "                        img = np.expand_dims(img, axis=2)                        \n",
    "\n",
    "                    elif (a==7):\n",
    "                        if(verbose==1):\n",
    "                            print(\"augmenting with horizontal flip\")\n",
    "                        img = flip_image(i,orientation = 'horizontal')\n",
    "                        # add dimensions to match the shape of \n",
    "                        # original feature array\n",
    "                        img = np.expand_dims(img, axis=2)\n",
    "\n",
    "                        #vertical_flip = flip_image(X_train[0],orientation = 'vertical')\n",
    "                        #both = flip_image(X_train[0],orientation = 'both')\n",
    "                    elif (a==8):\n",
    "                        if(verbose==1):\n",
    "                            print(\"augmenting with translation 1,7\")\n",
    "                        img = img_translation(i.squeeze(), 1,7)\n",
    "                        # add dimensions to match the shape of \n",
    "                        # original feature array\n",
    "                        img = np.expand_dims(img, axis=2)\n",
    "\n",
    "                    elif (a==9):\n",
    "                        if(verbose==1):\n",
    "                            print(\"augmenting with gtranslation -7,-1\")\n",
    "                        img = img_translation(i.squeeze(), -7,-1)\n",
    "                        # add dimensions to match the shape of \n",
    "                        # original feature array\n",
    "                        img = np.expand_dims(img, axis=2)\n",
    "\n",
    "                    elif (a==10):\n",
    "                        if(verbose==1):\n",
    "                            print(\"augmenting with crop and pad\")\n",
    "                        img = crop_and_pad(i.squeeze(),0.05, 0.1)\n",
    "                        # add dimensions to match the shape of \n",
    "                        # original feature array\n",
    "                        img = np.expand_dims(img, axis=2)\n",
    "\n",
    "                    img = np.expand_dims(img, axis=0)\n",
    "                    aug_feats= np.append(aug_feats,img,axis=0)\n",
    "\n",
    "                    label = np.expand_dims(current_class, axis=0)\n",
    "                    aug_labs= np.append(aug_labs,label,axis=0)\n",
    "        else:\n",
    "            print(\"no need to augment this class\")\n",
    "        \n",
    "\n",
    "\n",
    "    return aug_feats,aug_labs   \n",
    "    \n",
    "    \n",
    "\n",
    "def augment_images_and_save(X_train,y_train):\n",
    "    \"\"\"\n",
    "    Stores the augmented training set into a pickle file\n",
    "    \n",
    "    Parameters\n",
    "    ----------\n",
    "    item_counts    : \n",
    "              Name of the pickle file.\n",
    "\n",
    "    Returns\n",
    "    -------\n",
    "    None    \n",
    "    \"\"\"\n",
    "    df = pd.DataFrame({'sign':list(y_train)}) \n",
    "    item_counts = df[\"sign\"].value_counts().sort_index()\n",
    "    #print(item_counts)\n",
    "    \n",
    "    print(\"pre augment shapes\",X_train.shape,y_train.shape)\n",
    "\n",
    "    aug_feats, aug_labs = augment_images(X_train,y_train,item_counts)\n",
    "    #new stats\n",
    "    df = pd.DataFrame({'sign':list(aug_labs)})\n",
    "    stats = df.hist(bins=len(df.sign.unique()))\n",
    "\n",
    "\n",
    "    training_aug_file = '../traffic-signs-data/train_equal_gray_augmented.p'\n",
    "\n",
    "    \n",
    "    assert(len(aug_feats) == len(aug_labs))\n",
    "    train = {'features':aug_feats,'labels':aug_labs}\n",
    "    \n",
    "    with open(training_aug_file, mode='wb') as f:\n",
    "        pickle.dump(train, f)    \n",
    "    print(\"post augment shapes\",aug_feats.shape,aug_labs.shape)\n",
    "    return aug_feats,aug_labs\n",
    "    \n",
    "#aug_feats,aug_labs = augment_images_and_save(X_train,y_train)\n",
    "\n"
   ]
  },
  {
   "cell_type": "code",
   "execution_count": null,
   "metadata": {},
   "outputs": [],
   "source": [
    "   \n",
    "    \n"
   ]
  },
  {
   "cell_type": "code",
   "execution_count": null,
   "metadata": {},
   "outputs": [],
   "source": []
  },
  {
   "cell_type": "code",
   "execution_count": null,
   "metadata": {},
   "outputs": [],
   "source": []
  },
  {
   "cell_type": "code",
   "execution_count": null,
   "metadata": {},
   "outputs": [],
   "source": [
    "plt.imshow(x[54533],cmap='gray')\n",
    "aug = iaa.Alpha((0.0, 1.0), iaa.HistogramEqualization())\n",
    "new = aug(image=x[54533].squeeze())\n",
    "plt.imshow(new,cmap='gray')"
   ]
  },
  {
   "cell_type": "code",
   "execution_count": null,
   "metadata": {},
   "outputs": [],
   "source": [
    "filename = '../traffic-signs-data/train_equal_gray_equalized_seq2_aug_factor_0.p'\n",
    "save_pickle_file(filename,x,y)    "
   ]
  },
  {
   "cell_type": "code",
   "execution_count": null,
   "metadata": {},
   "outputs": [],
   "source": [
    "plot_samples_from_all_classes(x,y,color='gray')\n"
   ]
  },
  {
   "cell_type": "code",
   "execution_count": null,
   "metadata": {},
   "outputs": [],
   "source": [
    "print(\"all datasets loaded\")\n",
    "print(\"checking duplicates in xtrain\")\n",
    "#---\n",
    "array_to_check = aug_feats\n",
    "t0 = datetime.datetime.now()\n",
    "print(array_to_check.shape)\n",
    "search_for_duplicates(array_to_check)\n",
    "t1 = datetime.datetime.now()\n",
    "print((t1-t0).seconds)"
   ]
  },
  {
   "cell_type": "markdown",
   "metadata": {},
   "source": [
    "X_train.shape"
   ]
  },
  {
   "cell_type": "code",
   "execution_count": null,
   "metadata": {},
   "outputs": [],
   "source": [
    "X_train.shape"
   ]
  },
  {
   "cell_type": "markdown",
   "metadata": {},
   "source": [
    "# open pickle files for validation"
   ]
  },
  {
   "cell_type": "code",
   "execution_count": null,
   "metadata": {},
   "outputs": [],
   "source": [
    "#open all augmented files\n",
    "\n",
    "training_file = '../traffic-signs-data/train_equal_gray_augmented.p'\n",
    "validation_file= '../traffic-signs-data/valid_equal_gray.p'\n",
    "testing_file = '../traffic-signs-data/test_equal_gray.p'\n",
    "\n",
    "with open(training_file, mode='rb') as f:\n",
    "    train = pickle.load(f)\n",
    "with open(validation_file, mode='rb') as f:\n",
    "    valid = pickle.load(f)\n",
    "with open(testing_file, mode='rb') as f:\n",
    "    test = pickle.load(f)\n",
    "    \n",
    "X_train, y_train = train['features'], train['labels']    \n",
    "X_valid, y_valid = valid['features'], valid['labels']\n",
    "X_test, y_test = test['features'], test['labels']\n",
    "\n",
    "assert(len(X_train) == len(y_train))\n",
    "assert(len(X_valid) == len(y_valid))\n",
    "assert(len(X_test) == len(y_test))"
   ]
  },
  {
   "cell_type": "markdown",
   "metadata": {},
   "source": [
    "# Check for duplicates for validation"
   ]
  },
  {
   "cell_type": "code",
   "execution_count": null,
   "metadata": {},
   "outputs": [],
   "source": [
    "print(\"all datasets loaded\")\n",
    "print(\"checking duplicates in xtrain\")\n",
    "#---\n",
    "array_to_check = X_train\n",
    "t0 = datetime.datetime.now()\n",
    "print(array_to_check.shape)\n",
    "search_for_duplicates(array_to_check)\n",
    "t1 = datetime.datetime.now()\n",
    "print((t1-t0).seconds)\n",
    "\n",
    " "
   ]
  },
  {
   "cell_type": "code",
   "execution_count": null,
   "metadata": {},
   "outputs": [],
   "source": [
    "print(\"checking duplicates in xvalid\")\n",
    "#---\n",
    "array_to_check = X_valid\n",
    "t0 = datetime.datetime.now()\n",
    "print(array_to_check.shape)\n",
    "search_for_duplicates(array_to_check)\n",
    "t1 = datetime.datetime.now()\n",
    "print((t1-t0).seconds)\n",
    "\n",
    "  "
   ]
  },
  {
   "cell_type": "code",
   "execution_count": null,
   "metadata": {},
   "outputs": [],
   "source": [
    "print(\"checking duplicates in xtest\")\n",
    "#---\n",
    "array_to_check = X_test\n",
    "t0 = datetime.datetime.now()\n",
    "print(array_to_check.shape)\n",
    "search_for_duplicates(array_to_check)\n",
    "t1 = datetime.datetime.now()\n",
    "print((t1-t0).seconds) "
   ]
  },
  {
   "cell_type": "markdown",
   "metadata": {},
   "source": [
    "# helper function: shear image. This is applied to all images with an \"augmentation factor\" with the goal of increasing the size of the training set"
   ]
  },
  {
   "cell_type": "code",
   "execution_count": null,
   "metadata": {},
   "outputs": [],
   "source": [
    "''' \n",
    "import imgaug.augmenters as iaa\n",
    "from numpy.random import default_rng\n",
    "import numpy as np\n",
    "import matplotlib.pyplot as plt\n",
    "\n",
    "def shear_img(img,angle):\n",
    "    aug = iaa.Affine(\n",
    "        shear=(angle), # shear by -16 to +16 degrees\n",
    "    )\n",
    "    return aug(image=img)\n",
    "\n",
    "def shear_augmentation(features,labels,aug_factor = 10):\n",
    "    \n",
    "    print(\"pre augment shapes\",features.shape,labels.shape)\n",
    "    #select unique angles\n",
    "    rng = default_rng()\n",
    "    valid_shar_vals = list(range(-30,-1,3))\n",
    "    valid_shar_vals.extend(list(range(1,30,3)))\n",
    "    \n",
    "    aug_feats = features\n",
    "    aug_labs = labels\n",
    "    \n",
    "    for i in range(len(features)):\n",
    "        #current image and current label\n",
    "        image = features[i]\n",
    "        label = labels[i]\n",
    "        label = np.array([label])\n",
    "        shear_angles = rng.choice(valid_shar_vals, size=aug_factor, replace=False)\n",
    "        \n",
    "        #augment this image aug_factor times\n",
    "        for j in range(aug_factor):\n",
    "            aug_img = shear_img(image,shear_angles[j])\n",
    "            aug_img = np.expand_dims(aug_img, axis=0)\n",
    "            aug_feats= np.append(aug_feats,aug_img,axis=0)\n",
    "            aug_labs= np.append(aug_labs,label,axis=0)        \n",
    "   \n",
    "    print(\"post augment shapes\",aug_feats.shape,aug_labs.shape)\n",
    "    return aug_feats,aug_labs\n",
    "    \n",
    "\n",
    "    \n",
    "    \n",
    "\n",
    "def example_shear_augmentation():\n",
    "    X_new,y_new = shear_augmentation(X_train[0:1],y_train[0:1],aug_factor = 5) \n",
    "    f,((ax1,ax2,ax3,ax4,ax5)) = plt.subplots(1,5,)\n",
    "\n",
    "    f.tight_layout()\n",
    "\n",
    "    ax1.imshow(X_new[0].squeeze(),cmap='gray')\n",
    "    ax2.imshow(X_new[1].squeeze(),cmap='gray')\n",
    "    ax3.imshow(X_new[2].squeeze(),cmap='gray')\n",
    "    ax4.imshow(X_new[3].squeeze(),cmap='gray')\n",
    "    ax5.imshow(X_new[4].squeeze(),cmap='gray')\n",
    "\n",
    "\n",
    "    plt.show()\n",
    "\n",
    "#example_shear_augmentation()\n",
    "#X_train,y_train = shear_augmentation(X_train,y_train,aug_factor = 3)\n",
    "\n",
    "'''\n",
    "\n"
   ]
  },
  {
   "cell_type": "code",
   "execution_count": null,
   "metadata": {},
   "outputs": [],
   "source": [
    "import math\n",
    "from numpy.random import default_rng\n",
    "import numpy as np\n",
    "import imgaug.augmenters as iaa\n",
    "import pickle\n",
    "\n",
    "def batches(batch_size, features, labels):\n",
    "    \"\"\"\n",
    "    Create batches of features and labels\n",
    "    :param batch_size: The batch size\n",
    "    :param features: List of features\n",
    "    :param labels: List of labels\n",
    "    :return: Batches of (Features, Labels)\n",
    "    \"\"\"\n",
    "    assert len(features) == len(labels)\n",
    "    outout_batches = []\n",
    "    \n",
    "    sample_size = len(features)\n",
    "    for start_i in range(0, sample_size, batch_size):\n",
    "        end_i = start_i + batch_size\n",
    "        batch = [features[start_i:end_i], labels[start_i:end_i]]\n",
    "        outout_batches.append(batch)\n",
    "        \n",
    "    return outout_batches\n",
    "\n",
    "\n",
    "def shear_augmentation_parallel(train_features,train_labels,aug_factor = 1,batch_size=128): \n",
    "    \n",
    "    train_features_aug = train_features\n",
    "    train_labels_aug = train_labels\n",
    "    \n",
    "    \n",
    "    #choose unique angles excluding angle 0\n",
    "    rng = default_rng()\n",
    "    valid_shar_vals = list(range(-30,-1,3))\n",
    "    valid_shar_vals.extend(list(range(1,30,3)))\n",
    "    shear_angles = rng.choice(valid_shar_vals, size=aug_factor, replace=False)\n",
    "    \n",
    "    for j in range(aug_factor):\n",
    "        aug = iaa.Affine(\n",
    "            shear=(shear_angles[j]), \n",
    "        )\n",
    "        for batch_features, batch_labels in batches(batch_size, train_features, train_labels):\n",
    "            #print(batch_features,batch_labels)\n",
    "            aug_img = aug(images=batch_features)\n",
    "            train_features_aug = np.append(train_features_aug,aug_img,axis=0)\n",
    "            \n",
    "            train_labels_aug = np.append(train_labels_aug,batch_labels,axis=0)\n",
    "            \n",
    "        \n",
    "    return train_features_aug,train_labels_aug\n",
    "\n",
    "\n",
    "\n",
    "def example_shear_augmentation_parallel():\n",
    "    train_features = X_train[28993:28993+4]\n",
    "    train_labels = y_train[28993:28993+4]\n",
    "    X_new,y_new = shear_augmentation_parallel(train_features,train_labels,aug_factor = 6) \n",
    "    f,((ax1,ax2,ax3,ax4,ax5,ax6)) = plt.subplots(1,6,)\n",
    "    print('old shape {}, new shape {}'.format(train_features.shape,X_new.shape))\n",
    "    f.tight_layout()\n",
    "\n",
    "    ax1.imshow(X_new[0].squeeze(),cmap='gray')\n",
    "    ax2.imshow(X_new[4].squeeze(),cmap='gray')\n",
    "    ax3.imshow(X_new[1].squeeze(),cmap='gray')\n",
    "    ax4.imshow(X_new[5].squeeze(),cmap='gray')\n",
    "    ax5.imshow(X_new[2].squeeze(),cmap='gray')\n",
    "    ax6.imshow(X_new[6].squeeze(),cmap='gray')\n",
    "\n",
    "\n",
    "    plt.show()\n",
    "\n",
    "#example_shear_augmentation_parallel()\n",
    "train_features= X_train\n",
    "train_labels = y_train\n",
    "print('current feat shape',train_features.shape)\n",
    "print('current label shape',train_labels.shape)\n",
    "X_train,y_train = shear_augmentation_parallel(train_features,train_labels,aug_factor = 20,batch_size=512) \n",
    "print('new feat shape',X_new.shape)\n",
    "print('new label shape',y_new.shape)   \n",
    "\n",
    "##save new file\n",
    "print(\"saving new augmented 20x training file\")\n",
    "training_aug_file = '../traffic-signs-data/train_augmented_20x.p'\n",
    "\n",
    "assert(len(X_train) == len(y_train))\n",
    "train = {'features':X_train,'labels':y_train}\n",
    "\n",
    "with open(training_aug_file, mode='wb') as f:\n",
    "    pickle.dump(train, f) \n",
    "    \n",
    "    \n"
   ]
  },
  {
   "cell_type": "code",
   "execution_count": null,
   "metadata": {},
   "outputs": [],
   "source": [
    "#open all augmented files\n",
    "\n",
    "training_file = '../traffic-signs-data/train_augmented_20x.p'\n",
    "validation_file= '../traffic-signs-data/valid_gray.p'\n",
    "testing_file = '../traffic-signs-data/test_gray.p'\n",
    "\n",
    "with open(training_file, mode='rb') as f:\n",
    "    train = pickle.load(f)\n",
    "with open(validation_file, mode='rb') as f:\n",
    "    valid = pickle.load(f)\n",
    "with open(testing_file, mode='rb') as f:\n",
    "    test = pickle.load(f)\n",
    "    \n",
    "X_train, y_train = train['features'], train['labels']    \n",
    "X_valid, y_valid = valid['features'], valid['labels']\n",
    "X_test, y_test = test['features'], test['labels']\n",
    "\n",
    "assert(len(X_train) == len(y_train))\n",
    "assert(len(X_valid) == len(y_valid))\n",
    "assert(len(X_test) == len(y_test))\n",
    "\n",
    "print(\"all datasets loaded\")\n",
    "print(\"checking duplicates in xtrain\")\n",
    "#---\n",
    "array_to_check = X_train\n",
    "t0 = datetime.datetime.now()\n",
    "print(array_to_check.shape)\n",
    "search_for_duplicates(array_to_check)\n",
    "t1 = datetime.datetime.now()\n",
    "print((t1-t0).seconds)\n",
    "\n",
    "print(\"checking duplicates in xvalid\")\n",
    "#---\n",
    "array_to_check = X_valid\n",
    "t0 = datetime.datetime.now()\n",
    "print(array_to_check.shape)\n",
    "search_for_duplicates(array_to_check)\n",
    "t1 = datetime.datetime.now()\n",
    "print((t1-t0).seconds)\n",
    "\n",
    "print(\"checking duplicates in xtest\")\n",
    "#---\n",
    "array_to_check = X_test\n",
    "t0 = datetime.datetime.now()\n",
    "print(array_to_check.shape)\n",
    "search_for_duplicates(array_to_check)\n",
    "t1 = datetime.datetime.now()\n",
    "print((t1-t0).seconds)    "
   ]
  },
  {
   "cell_type": "code",
   "execution_count": null,
   "metadata": {},
   "outputs": [],
   "source": [
    "   \n"
   ]
  },
  {
   "cell_type": "code",
   "execution_count": null,
   "metadata": {},
   "outputs": [],
   "source": [
    " "
   ]
  },
  {
   "cell_type": "code",
   "execution_count": null,
   "metadata": {},
   "outputs": [],
   "source": []
  },
  {
   "cell_type": "markdown",
   "metadata": {},
   "source": [
    "# end of pre-preprocessing"
   ]
  },
  {
   "cell_type": "code",
   "execution_count": null,
   "metadata": {},
   "outputs": [],
   "source": [
    "import pickle\n",
    "#training_file = '../traffic-signs-data/train_augmented.p'\n",
    "training_file = '../traffic-signs-data/train_augmented_10x.p'\n",
    "validation_file= '../traffic-signs-data/valid_gray.p'\n",
    "testing_file = '../traffic-signs-data/test_gray.p'\n",
    "\n",
    "with open(training_file, mode='rb') as f:\n",
    "    train = pickle.load(f)\n",
    "with open(validation_file, mode='rb') as f:\n",
    "    valid = pickle.load(f)\n",
    "with open(testing_file, mode='rb') as f:\n",
    "    test = pickle.load(f)\n",
    "    \n",
    "X_train, y_train = train['features'], train['labels']    \n",
    "X_valid, y_valid = valid['features'], valid['labels']\n",
    "X_test, y_test = test['features'], test['labels']\n",
    "\n",
    "assert(len(X_train) == len(y_train))\n",
    "assert(len(X_valid) == len(y_valid))\n",
    "assert(len(X_test) == len(y_test))\n"
   ]
  },
  {
   "cell_type": "code",
   "execution_count": null,
   "metadata": {},
   "outputs": [],
   "source": [
    "#Normalization\n",
    "def normalize_input(x): \n",
    "    output = (x.astype('int8')-127)/128\n",
    "    assert(x.shape==output.shape)\n",
    "    return output\n",
    "\n",
    "X_train = normalize_input(X_train)\n",
    "X_valid = normalize_input(X_valid)\n",
    "X_test = normalize_input(X_test)\n"
   ]
  },
  {
   "cell_type": "code",
   "execution_count": null,
   "metadata": {},
   "outputs": [],
   "source": [
    "assert(len(X_train) == len(y_train))\n",
    "print(X_train.shape,y_train.shape)\n",
    "\n",
    "### Replace each question mark with the appropriate value. \n",
    "### Use python, pandas or numpy methods rather than hard coding the results\n",
    "import random\n",
    "# TODO: Number of training examples\n",
    "n_train = len(X_train)\n",
    "\n",
    "# TODO: Number of validation examples\n",
    "n_validation = len(X_valid)\n",
    "\n",
    "# TODO: Number of testing examples.\n",
    "n_test = len(X_test)\n",
    "\n",
    "# TODO: What's the shape of a traffic sign image?\n",
    "index = random.randint(0, len(X_train))\n",
    "image = X_train[index]\n",
    "image_shape = image.shape\n",
    "\n",
    "# TODO: How many unique classes/labels there are in the dataset.\n",
    "n_classes = len(set(y_train))\n",
    "\n",
    "print(\"Number of training examples =\", n_train)\n",
    "print(\"Number of validation examples =\", n_validation)\n",
    "print(\"Number of testing examples =\", n_test)\n",
    "print(\"Image data shape =\", image_shape)\n",
    "print(\"Number of classes =\", n_classes)"
   ]
  },
  {
   "cell_type": "markdown",
   "metadata": {},
   "source": [
    "# augmentations\n",
    "#image_flipr = np.fliplr(image)\n",
    "sources \n",
    "\n",
    "https://datascience.stackexchange.com/questions/28426/train-accuracy-vs-test-accuracy-vs-confusion-matrix\n",
    "\n",
    "https://towardsdatascience.com/data-preprocessing-and-network-building-in-cnn-15624ef3a28b\n",
    "\n",
    "https://github.com/aleju/imgaug\n",
    "\n",
    "# overfitting\n",
    "\n",
    "https://towardsdatascience.com/deep-learning-3-more-on-cnns-handling-overfitting-2bd5d99abe5d\n",
    "\n",
    "\n",
    "https://github.com/navoshta/traffic-signs\n",
    "\n",
    "\n",
    "# tensorflow 2\n",
    "http://datahacker.rs/lenet-5-implementation-tensorflow-2-0/\n",
    "\n",
    "https://www.tensorflow.org/guide/keras/train_and_evaluate\n",
    "\n",
    "https://www.machinecurve.com/index.php/2020/02/21/how-to-predict-new-samples-with-your-keras-model/\n",
    "\n",
    "# tensorboard \n",
    "https://www.tensorflow.org/tensorboard/get_started\n",
    "\n",
    "# dropout\n",
    "https://www.tensorflow.org/api_docs/python/tf/keras/layers/Dropout"
   ]
  },
  {
   "cell_type": "code",
   "execution_count": null,
   "metadata": {},
   "outputs": [],
   "source": [
    "#shuffle data\n",
    "from sklearn.utils import shuffle\n",
    "\n",
    "X_train, y_train = shuffle(X_train, y_train)\n",
    "\n"
   ]
  },
  {
   "cell_type": "markdown",
   "metadata": {},
   "source": [
    "### Model Architecture\n",
    "\n",
    "### Input\n",
    "The LeNet architecture accepts a 32x32xC image as input, where C is the number of color channels. Since MNIST images are grayscale, C is 1 in this case.\n",
    "\n",
    "### Architecture\n",
    "**Layer 1: Convolutional.** The output shape should be 28x28x6.\n",
    "\n",
    "**Activation.** Your choice of activation function.\n",
    "\n",
    "**Pooling.** The output shape should be 14x14x6.\n",
    "\n",
    "**Layer 2: Convolutional.** The output shape should be 10x10x16.\n",
    "\n",
    "**Activation.** Your choice of activation function.\n",
    "\n",
    "**Pooling.** The output shape should be 5x5x16.\n",
    "\n",
    "**Flatten.** Flatten the output shape of the final pooling layer such that it's 1D instead of 3D. The easiest way to do is by using `tf.contrib.layers.flatten`, which is already imported for you.\n",
    "\n",
    "**Layer 3: Fully Connected.** This should have 120 outputs.\n",
    "\n",
    "**Activation.** Your choice of activation function.\n",
    "\n",
    "**Layer 4: Fully Connected.** This should have 84 outputs.\n",
    "\n",
    "**Activation.** Your choice of activation function.\n",
    "\n",
    "**Layer 5: Fully Connected (Logits).** This should have 10 outputs.\n",
    "\n",
    "### Output\n",
    "Return the result of the 2nd fully connected layer."
   ]
  },
  {
   "cell_type": "code",
   "execution_count": null,
   "metadata": {},
   "outputs": [],
   "source": [
    "### Define your architecture here.\n",
    "### Feel free to use as many code cells as needed.\n",
    "import tensorflow as tf\n",
    "\n",
    "\n",
    "EPOCHS = 50\n",
    "BATCH_SIZE = 128"
   ]
  },
  {
   "cell_type": "code",
   "execution_count": null,
   "metadata": {},
   "outputs": [],
   "source": [
    "from tensorflow.contrib.layers import flatten\n",
    "\n",
    "def LeNet(x, config):    \n",
    "     \n",
    "    wc1_config = config['wc1']\n",
    "    wc2_config = config['wc2'] \n",
    "    wd1_config = config['wd1'] \n",
    "    wd2_config = config['wd2'] \n",
    "    wout_config = config['wout']\n",
    "    drop_conv_p = config['drop_conv_p']\n",
    "\n",
    "    \n",
    "    bc1_config = config['bc1']\n",
    "    bc2_config = config['bc2'] \n",
    "    bd1_config = config['bd1'] \n",
    "    bd2_config = config['bd2']\n",
    "    drop_nn_p = config['drop_nn_p']\n",
    "    bout_config = config['bout']\n",
    "    \n",
    "    # Store layers weight & bias\n",
    "    # wc = weight conv layer\n",
    "    # wd = weight (fully densely) connected layer\n",
    "    weights = {\n",
    "        'wc1': tf.Variable(tf.random_normal(wc1_config)),\n",
    "        'wc2': tf.Variable(tf.random_normal(wc2_config)),\n",
    "        'wd1': tf.Variable(tf.random_normal(shape=wd1_config[0], mean = wd1_config[1], stddev = wd1_config[2])),\n",
    "        'wd2': tf.Variable(tf.random_normal(wd2_config[0], mean = wd2_config[1], stddev = wd2_config[2])),\n",
    "        'out': tf.Variable(tf.random_normal(wout_config[0], mean = wout_config[1], stddev = wout_config[2]))}\n",
    "\n",
    "    biases = {\n",
    "        'bc1': tf.Variable(tf.random_normal(bc1_config)),\n",
    "        'bc2': tf.Variable(tf.random_normal(bc2_config)),\n",
    "        'bd1': tf.Variable(tf.random_normal(bd1_config)),\n",
    "        'bd2': tf.Variable(tf.random_normal(bd2_config)),\n",
    "        'out': tf.Variable(tf.random_normal(bout_config))}    \n",
    "    \n",
    "    def conv2d(x, W, b, strides=1,padding='SAME'):\n",
    "        x = tf.nn.conv2d(x, W, strides=[1, strides, strides, 1],padding=padding)\n",
    "        x = tf.nn.bias_add(x, b)\n",
    "        return x\n",
    "    \n",
    "    def maxpool2d(x, k=2,padding='SAME'):\n",
    "        return tf.nn.max_pool(\n",
    "            x,\n",
    "            ksize=[1, k, k, 1],\n",
    "            strides=[1, k, k, 1],\n",
    "            padding=padding)\n",
    "    \n",
    "    \n",
    "    # TODO: Layer 1: Convolutional. Input = 32x32x1. Output = 28x28x6.\n",
    "    conv1 = conv2d(x,weights['wc1'],biases['bc1'],strides=1,padding='VALID')\n",
    "    \n",
    "    # TODO: Activation.\n",
    "    conv1 = tf.nn.relu(conv1)\n",
    "    \n",
    "    # TODO: Pooling. Input = 28x28x6. Output = 14x14x6.\n",
    "    #stride of 2\n",
    "    pool1 = maxpool2d(conv1,2)\n",
    "   \n",
    "    # TODO: Layer 2: Convolutional. Output = 10x10x16.\n",
    "    #14-5+1/1 stride is 1\n",
    "    conv2 = conv2d(pool1,weights['wc2'],biases['bc2'],padding='VALID')\n",
    "    \n",
    "    # TODO: Activation.\n",
    "    conv2 = tf.nn.relu(conv2)\n",
    "    \n",
    "    # TODO: Pooling. Input = 10x10x16. Output = 5x5x16.\n",
    "    pool2 = maxpool2d(conv2,2)\n",
    "    \n",
    "    drop_out1 = tf.nn.dropout(pool2, drop_conv_p)  # DROP-OUT here\n",
    "    \n",
    "    # TODO: Flatten. Input = 5x5x16. Output = 400. \n",
    "    fc1 = tf.contrib.layers.flatten(pool2)\n",
    "    #fc1 = tf.keras.layers.Flatten(pool2)\n",
    "    #fc1 = tf.reshape(conv2, [-1, weights['wd1'].get_shape().as_list()[0]])\n",
    "    \n",
    "    # TODO: Layer 3: Fully Connected. Input = 400. Output = 120.\n",
    "    fc2 = tf.add(tf.matmul(fc1, weights['wd1']), biases['bd1'])\n",
    "     \n",
    "    # TODO: Activation.\n",
    "    fc2 = tf.nn.relu(fc2)\n",
    "    \n",
    "    # TODO: Layer 4: Fully Connected. Input = 120. Output = 84.\n",
    "    fc3 = tf.add(tf.matmul(fc2, weights['wd2']), biases['bd2'])\n",
    "     \n",
    "    # TODO: Activation.\n",
    "    fc3 = tf.nn.relu(fc3)\n",
    "    \n",
    "    drop_out2 = tf.nn.dropout(fc3, drop_nn_p)  # DROP-OUT here\n",
    "    \n",
    "    # TODO: Layer 5: Fully Connected. Input = 84. Output = n_classes.\n",
    "    logits = tf.add(tf.matmul(fc3, weights['out']), biases['out'])\n",
    "    return logits"
   ]
  },
  {
   "cell_type": "markdown",
   "metadata": {},
   "source": [
    "### Train, Validate and Test the Model"
   ]
  },
  {
   "cell_type": "markdown",
   "metadata": {},
   "source": [
    "A validation set can be used to assess how well the model is performing. A low accuracy on the training and validation\n",
    "sets imply underfitting. A high accuracy on the training set but low accuracy on the validation set implies overfitting."
   ]
  },
  {
   "cell_type": "code",
   "execution_count": null,
   "metadata": {},
   "outputs": [],
   "source": [
    "### Train your model here.\n",
    "### Calculate and report the accuracy on the training and validation set.\n",
    "### Once a final model architecture is selected, \n",
    "### the accuracy on the test set should be calculated and reported as well.\n",
    "### Feel free to use as many code cells as needed.\n",
    "\n",
    "#features and labels\n",
    "x = tf.placeholder(tf.float32, (None, 32, 32,1))\n",
    "y = tf.placeholder(tf.int32, (None))\n",
    "one_hot_y = tf.one_hot(y, n_classes)"
   ]
  },
  {
   "cell_type": "code",
   "execution_count": null,
   "metadata": {},
   "outputs": [],
   "source": [
    "#model evaluation\n",
    "\n",
    "def evaluate(X_data, y_data):\n",
    "    num_examples = len(X_data)\n",
    "    total_accuracy = 0\n",
    "    sess = tf.get_default_session()\n",
    "    for offset in range(0, num_examples, BATCH_SIZE):\n",
    "        batch_x, batch_y = X_data[offset:offset+BATCH_SIZE], y_data[offset:offset+BATCH_SIZE]\n",
    "        accuracy = sess.run(accuracy_operation, feed_dict={x: batch_x, y: batch_y})\n",
    "        total_accuracy += (accuracy * len(batch_x))\n",
    "    return total_accuracy / num_examples"
   ]
  },
  {
   "cell_type": "code",
   "execution_count": null,
   "metadata": {},
   "outputs": [],
   "source": [
    "#training the pipeline\n",
    "import csv\n",
    "import time\n",
    "import json\n",
    "from datetime import datetime\n",
    "for rate in [0.01]:\n",
    "    for conv_drop_p in [0.75,0.5]:\n",
    "        config = {'wc1':[5, 5, 1, 6],\n",
    "                  'wc2':[5, 5, 6, 16],\n",
    "                  'wd1':[[5 * 5 * 16, 120],0,0.1],\n",
    "                  'wd2':[[120, 84],0,0.1],\n",
    "                  'wout':[[84, n_classes],0,0.1],\n",
    "                  'bc1': [6],\n",
    "                  'bc2':[16],\n",
    "                  'bd1':[120],\n",
    "                  'bd2':[84],\n",
    "                  'bout':[n_classes],\n",
    "                  'drop_conv_p':conv_drop_p,\n",
    "                  'drop_nn_p': 0.4}  \n",
    "\n",
    "        # datetime object containing current date and time\n",
    "        now = datetime.now()\n",
    "        dt_string = now.strftime(\"%Y-%m-%d-%H-%M-%S\")\n",
    "\n",
    "        filename = '{}rate{}_conv_drop_p{}config.csv'.format(dt_string,rate,conv_drop_p)\n",
    "        with open(filename, 'w', newline='') as file:\n",
    "            w = csv.DictWriter(file, config.keys())\n",
    "            w.writeheader()\n",
    "            w.writerow(config)\n",
    "\n",
    "\n",
    "\n",
    "        filename = '{}rate{}_conv_drop_p{}perf.csv'.format(dt_string,rate,conv_drop_p)\n",
    "        perf = {'epoch':0,'training_acc':0,'validation_acc':0,'duration':0}\n",
    "        with open(filename, 'w', newline='') as file:\n",
    "            w = csv.DictWriter(file, perf.keys())\n",
    "            w.writeheader()\n",
    "\n",
    "            #rate = 0.01\n",
    "\n",
    "\n",
    "            logits = LeNet(x,config)\n",
    "            cross_entropy = tf.nn.softmax_cross_entropy_with_logits(labels=one_hot_y, logits=logits)\n",
    "            loss_operation = tf.reduce_mean(cross_entropy)\n",
    "            optimizer = tf.train.AdamOptimizer(learning_rate = rate)\n",
    "            training_operation = optimizer.minimize(loss_operation)\n",
    "            correct_prediction = tf.equal(tf.argmax(logits, 1), tf.argmax(one_hot_y, 1))\n",
    "            accuracy_operation = tf.reduce_mean(tf.cast(correct_prediction, tf.float32))\n",
    "            saver = tf.train.Saver()\n",
    "\n",
    "            valid_acc = []\n",
    "            train_acc = []\n",
    "            t0 = time.time()\n",
    "            with tf.Session() as sess:\n",
    "                sess.run(tf.global_variables_initializer())\n",
    "                num_examples = len(X_train)\n",
    "\n",
    "                print(\"Training...\")\n",
    "                print()\n",
    "                for i in range(EPOCHS):\n",
    "                    X_train, y_train = shuffle(X_train, y_train)\n",
    "                    for offset in range(0, num_examples, BATCH_SIZE):\n",
    "                        end = offset + BATCH_SIZE\n",
    "                        batch_x, batch_y = X_train[offset:end], y_train[offset:end]\n",
    "                        sess.run(training_operation, feed_dict={x: batch_x, y: batch_y})\n",
    "\n",
    "                    training_accruracy = evaluate(X_train, y_train)\n",
    "                    train_acc.append(training_accruracy)\n",
    "                    validation_accuracy = evaluate(X_valid, y_valid)\n",
    "                    valid_acc.append(validation_accuracy)\n",
    "\n",
    "                    perf['epoch']=i+1\n",
    "                    perf['training_acc']=training_accruracy\n",
    "                    perf['validation_acc']=validation_accuracy\n",
    "                    t1 = time.time()\n",
    "                    perf['duration']=round(t1 - t0, 2)\n",
    "                    w.writerow(perf)                \n",
    "\n",
    "                    print(\"EPOCH {} ...\".format(i+1))\n",
    "                    print(\"Validation Accuracy = {:.3f}\".format(validation_accuracy))\n",
    "                    print()\n",
    "\n",
    "                saver.save(sess, './lenet')\n",
    "                print(\"Model saved\")\n",
    "\n",
    "        "
   ]
  },
  {
   "cell_type": "code",
   "execution_count": null,
   "metadata": {},
   "outputs": [],
   "source": [
    "\n",
    "\n",
    "\n"
   ]
  },
  {
   "cell_type": "code",
   "execution_count": null,
   "metadata": {
    "scrolled": true
   },
   "outputs": [],
   "source": [
    "\n",
    "    "
   ]
  },
  {
   "cell_type": "code",
   "execution_count": null,
   "metadata": {},
   "outputs": [],
   "source": [
    "import matplotlib.pyplot as plt\n",
    "%matplotlib qt\n",
    "print(len(train_acc))\n",
    "plt.plot(range(len(train_acc)),train_acc)\n",
    "plt.plot(range(len(train_acc)),valid_acc)"
   ]
  },
  {
   "cell_type": "markdown",
   "metadata": {},
   "source": [
    "---\n",
    "\n",
    "## Step 3: Test a Model on New Images\n",
    "\n",
    "To give yourself more insight into how your model is working, download at least five pictures of German traffic signs from the web and use your model to predict the traffic sign type.\n",
    "\n",
    "You may find `signnames.csv` useful as it contains mappings from the class id (integer) to the actual sign name."
   ]
  },
  {
   "cell_type": "markdown",
   "metadata": {},
   "source": [
    "### Load and Output the Images"
   ]
  },
  {
   "cell_type": "code",
   "execution_count": null,
   "metadata": {},
   "outputs": [],
   "source": [
    "### Load the images and plot them here.\n",
    "### Feel free to use as many code cells as needed."
   ]
  },
  {
   "cell_type": "markdown",
   "metadata": {},
   "source": [
    "### Predict the Sign Type for Each Image"
   ]
  },
  {
   "cell_type": "code",
   "execution_count": null,
   "metadata": {},
   "outputs": [],
   "source": [
    "### Run the predictions here and use the model to output the prediction for each image.\n",
    "### Make sure to pre-process the images with the same pre-processing pipeline used earlier.\n",
    "### Feel free to use as many code cells as needed."
   ]
  },
  {
   "cell_type": "markdown",
   "metadata": {},
   "source": [
    "### Analyze Performance"
   ]
  },
  {
   "cell_type": "code",
   "execution_count": null,
   "metadata": {},
   "outputs": [],
   "source": [
    "### Calculate the accuracy for these 5 new images. \n",
    "### For example, if the model predicted 1 out of 5 signs correctly, it's 20% accurate on these new images."
   ]
  },
  {
   "cell_type": "markdown",
   "metadata": {},
   "source": [
    "### Output Top 5 Softmax Probabilities For Each Image Found on the Web"
   ]
  },
  {
   "cell_type": "markdown",
   "metadata": {},
   "source": [
    "For each of the new images, print out the model's softmax probabilities to show the **certainty** of the model's predictions (limit the output to the top 5 probabilities for each image). [`tf.nn.top_k`](https://www.tensorflow.org/versions/r0.12/api_docs/python/nn.html#top_k) could prove helpful here. \n",
    "\n",
    "The example below demonstrates how tf.nn.top_k can be used to find the top k predictions for each image.\n",
    "\n",
    "`tf.nn.top_k` will return the values and indices (class ids) of the top k predictions. So if k=3, for each sign, it'll return the 3 largest probabilities (out of a possible 43) and the correspoding class ids.\n",
    "\n",
    "Take this numpy array as an example. The values in the array represent predictions. The array contains softmax probabilities for five candidate images with six possible classes. `tf.nn.top_k` is used to choose the three classes with the highest probability:\n",
    "\n",
    "```\n",
    "# (5, 6) array\n",
    "a = np.array([[ 0.24879643,  0.07032244,  0.12641572,  0.34763842,  0.07893497,\n",
    "         0.12789202],\n",
    "       [ 0.28086119,  0.27569815,  0.08594638,  0.0178669 ,  0.18063401,\n",
    "         0.15899337],\n",
    "       [ 0.26076848,  0.23664738,  0.08020603,  0.07001922,  0.1134371 ,\n",
    "         0.23892179],\n",
    "       [ 0.11943333,  0.29198961,  0.02605103,  0.26234032,  0.1351348 ,\n",
    "         0.16505091],\n",
    "       [ 0.09561176,  0.34396535,  0.0643941 ,  0.16240774,  0.24206137,\n",
    "         0.09155967]])\n",
    "```\n",
    "\n",
    "Running it through `sess.run(tf.nn.top_k(tf.constant(a), k=3))` produces:\n",
    "\n",
    "```\n",
    "TopKV2(values=array([[ 0.34763842,  0.24879643,  0.12789202],\n",
    "       [ 0.28086119,  0.27569815,  0.18063401],\n",
    "       [ 0.26076848,  0.23892179,  0.23664738],\n",
    "       [ 0.29198961,  0.26234032,  0.16505091],\n",
    "       [ 0.34396535,  0.24206137,  0.16240774]]), indices=array([[3, 0, 5],\n",
    "       [0, 1, 4],\n",
    "       [0, 5, 1],\n",
    "       [1, 3, 5],\n",
    "       [1, 4, 3]], dtype=int32))\n",
    "```\n",
    "\n",
    "Looking just at the first row we get `[ 0.34763842,  0.24879643,  0.12789202]`, you can confirm these are the 3 largest probabilities in `a`. You'll also notice `[3, 0, 5]` are the corresponding indices."
   ]
  },
  {
   "cell_type": "code",
   "execution_count": null,
   "metadata": {},
   "outputs": [],
   "source": [
    "### Print out the top five softmax probabilities for the predictions on the German traffic sign images found on the web. \n",
    "### Feel free to use as many code cells as needed."
   ]
  },
  {
   "cell_type": "markdown",
   "metadata": {},
   "source": [
    "### Project Writeup\n",
    "\n",
    "Once you have completed the code implementation, document your results in a project writeup using this [template](https://github.com/udacity/CarND-Traffic-Sign-Classifier-Project/blob/master/writeup_template.md) as a guide. The writeup can be in a markdown or pdf file. "
   ]
  },
  {
   "cell_type": "markdown",
   "metadata": {},
   "source": [
    "> **Note**: Once you have completed all of the code implementations and successfully answered each question above, you may finalize your work by exporting the iPython Notebook as an HTML document. You can do this by using the menu above and navigating to  \\n\",\n",
    "    \"**File -> Download as -> HTML (.html)**. Include the finished document along with this notebook as your submission."
   ]
  },
  {
   "cell_type": "markdown",
   "metadata": {},
   "source": [
    "---\n",
    "\n",
    "## Step 4 (Optional): Visualize the Neural Network's State with Test Images\n",
    "\n",
    " This Section is not required to complete but acts as an additional excersise for understaning the output of a neural network's weights. While neural networks can be a great learning device they are often referred to as a black box. We can understand what the weights of a neural network look like better by plotting their feature maps. After successfully training your neural network you can see what it's feature maps look like by plotting the output of the network's weight layers in response to a test stimuli image. From these plotted feature maps, it's possible to see what characteristics of an image the network finds interesting. For a sign, maybe the inner network feature maps react with high activation to the sign's boundary outline or to the contrast in the sign's painted symbol.\n",
    "\n",
    " Provided for you below is the function code that allows you to get the visualization output of any tensorflow weight layer you want. The inputs to the function should be a stimuli image, one used during training or a new one you provided, and then the tensorflow variable name that represents the layer's state during the training process, for instance if you wanted to see what the [LeNet lab's](https://classroom.udacity.com/nanodegrees/nd013/parts/fbf77062-5703-404e-b60c-95b78b2f3f9e/modules/6df7ae49-c61c-4bb2-a23e-6527e69209ec/lessons/601ae704-1035-4287-8b11-e2c2716217ad/concepts/d4aca031-508f-4e0b-b493-e7b706120f81) feature maps looked like for it's second convolutional layer you could enter conv2 as the tf_activation variable.\n",
    "\n",
    "For an example of what feature map outputs look like, check out NVIDIA's results in their paper [End-to-End Deep Learning for Self-Driving Cars](https://devblogs.nvidia.com/parallelforall/deep-learning-self-driving-cars/) in the section Visualization of internal CNN State. NVIDIA was able to show that their network's inner weights had high activations to road boundary lines by comparing feature maps from an image with a clear path to one without. Try experimenting with a similar test to show that your trained network's weights are looking for interesting features, whether it's looking at differences in feature maps from images with or without a sign, or even what feature maps look like in a trained network vs a completely untrained one on the same sign image.\n",
    "\n",
    "<figure>\n",
    " <img src=\"visualize_cnn.png\" width=\"380\" alt=\"Combined Image\" />\n",
    " <figcaption>\n",
    " <p></p> \n",
    " <p style=\"text-align: center;\"> Your output should look something like this (above)</p> \n",
    " </figcaption>\n",
    "</figure>\n",
    " <p></p> \n"
   ]
  },
  {
   "cell_type": "code",
   "execution_count": null,
   "metadata": {},
   "outputs": [],
   "source": [
    "### Visualize your network's feature maps here.\n",
    "### Feel free to use as many code cells as needed.\n",
    "\n",
    "# image_input: the test image being fed into the network to produce the feature maps\n",
    "# tf_activation: should be a tf variable name used during your training procedure that represents the calculated state of a specific weight layer\n",
    "# activation_min/max: can be used to view the activation contrast in more detail, by default matplot sets min and max to the actual min and max values of the output\n",
    "# plt_num: used to plot out multiple different weight feature map sets on the same block, just extend the plt number for each new feature map entry\n",
    "\n",
    "def outputFeatureMap(image_input, tf_activation, activation_min=-1, activation_max=-1 ,plt_num=1):\n",
    "    # Here make sure to preprocess your image_input in a way your network expects\n",
    "    # with size, normalization, ect if needed\n",
    "    # image_input =\n",
    "    # Note: x should be the same name as your network's tensorflow data placeholder variable\n",
    "    # If you get an error tf_activation is not defined it may be having trouble accessing the variable from inside a function\n",
    "    activation = tf_activation.eval(session=sess,feed_dict={x : image_input})\n",
    "    featuremaps = activation.shape[3]\n",
    "    plt.figure(plt_num, figsize=(15,15))\n",
    "    for featuremap in range(featuremaps):\n",
    "        plt.subplot(6,8, featuremap+1) # sets the number of feature maps to show on each row and column\n",
    "        plt.title('FeatureMap ' + str(featuremap)) # displays the feature map number\n",
    "        if activation_min != -1 & activation_max != -1:\n",
    "            plt.imshow(activation[0,:,:, featuremap], interpolation=\"nearest\", vmin =activation_min, vmax=activation_max, cmap=\"gray\")\n",
    "        elif activation_max != -1:\n",
    "            plt.imshow(activation[0,:,:, featuremap], interpolation=\"nearest\", vmax=activation_max, cmap=\"gray\")\n",
    "        elif activation_min !=-1:\n",
    "            plt.imshow(activation[0,:,:, featuremap], interpolation=\"nearest\", vmin=activation_min, cmap=\"gray\")\n",
    "        else:\n",
    "            plt.imshow(activation[0,:,:, featuremap], interpolation=\"nearest\", cmap=\"gray\")"
   ]
  }
 ],
 "metadata": {
  "anaconda-cloud": {},
  "kernelspec": {
   "display_name": "Python 3",
   "language": "python",
   "name": "python3"
  },
  "language_info": {
   "codemirror_mode": {
    "name": "ipython",
    "version": 3
   },
   "file_extension": ".py",
   "mimetype": "text/x-python",
   "name": "python",
   "nbconvert_exporter": "python",
   "pygments_lexer": "ipython3",
   "version": "3.7.9"
  }
 },
 "nbformat": 4,
 "nbformat_minor": 1
}
